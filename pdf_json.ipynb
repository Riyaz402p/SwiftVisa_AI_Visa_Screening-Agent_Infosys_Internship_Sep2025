{
 "cells": [
  {
   "cell_type": "code",
   "execution_count": 4,
   "id": "06aa4eaf-604b-40e0-a7fd-5cc293cae779",
   "metadata": {},
   "outputs": [
    {
     "name": "stdout",
     "output_type": "stream",
     "text": [
      "Collecting PyMuPDF\n",
      "  Downloading pymupdf-1.26.4-cp39-abi3-win_amd64.whl.metadata (3.4 kB)\n",
      "Downloading pymupdf-1.26.4-cp39-abi3-win_amd64.whl (18.7 MB)\n",
      "   ---------------------------------------- 0.0/18.7 MB ? eta -:--:--\n",
      "    --------------------------------------- 0.3/18.7 MB ? eta -:--:--\n",
      "   - -------------------------------------- 0.8/18.7 MB 2.1 MB/s eta 0:00:09\n",
      "   -- ------------------------------------- 1.0/18.7 MB 1.9 MB/s eta 0:00:10\n",
      "   -- ------------------------------------- 1.3/18.7 MB 2.1 MB/s eta 0:00:09\n",
      "   --- ------------------------------------ 1.8/18.7 MB 1.9 MB/s eta 0:00:10\n",
      "   ---- ----------------------------------- 2.1/18.7 MB 1.8 MB/s eta 0:00:10\n",
      "   ------ --------------------------------- 2.9/18.7 MB 2.0 MB/s eta 0:00:08\n",
      "   ------- -------------------------------- 3.7/18.7 MB 2.3 MB/s eta 0:00:07\n",
      "   --------- ------------------------------ 4.5/18.7 MB 2.5 MB/s eta 0:00:06\n",
      "   ---------- ----------------------------- 5.0/18.7 MB 2.5 MB/s eta 0:00:06\n",
      "   ------------ --------------------------- 6.0/18.7 MB 2.8 MB/s eta 0:00:05\n",
      "   --------------- ------------------------ 7.1/18.7 MB 3.0 MB/s eta 0:00:04\n",
      "   ---------------- ----------------------- 7.9/18.7 MB 3.0 MB/s eta 0:00:04\n",
      "   ------------------ --------------------- 8.7/18.7 MB 3.1 MB/s eta 0:00:04\n",
      "   -------------------- ------------------- 9.7/18.7 MB 3.3 MB/s eta 0:00:03\n",
      "   ----------------------- ---------------- 11.0/18.7 MB 3.4 MB/s eta 0:00:03\n",
      "   ------------------------- -------------- 12.1/18.7 MB 3.5 MB/s eta 0:00:02\n",
      "   ---------------------------- ----------- 13.4/18.7 MB 3.7 MB/s eta 0:00:02\n",
      "   ------------------------------- -------- 14.7/18.7 MB 3.9 MB/s eta 0:00:02\n",
      "   --------------------------------- ------ 15.5/18.7 MB 3.9 MB/s eta 0:00:01\n",
      "   ----------------------------------- ---- 16.5/18.7 MB 3.9 MB/s eta 0:00:01\n",
      "   ------------------------------------- -- 17.6/18.7 MB 3.9 MB/s eta 0:00:01\n",
      "   ---------------------------------------  18.6/18.7 MB 4.0 MB/s eta 0:00:01\n",
      "   ---------------------------------------- 18.7/18.7 MB 4.0 MB/s eta 0:00:00\n",
      "Installing collected packages: PyMuPDF\n",
      "Successfully installed PyMuPDF-1.26.4\n"
     ]
    }
   ],
   "source": [
    "!pip install PyMuPDF"
   ]
  },
  {
   "cell_type": "code",
   "execution_count": 5,
   "id": "8ab98e02-2a18-4519-88dc-2f2f954e6a9f",
   "metadata": {},
   "outputs": [],
   "source": [
    "import re\n",
    "import json\n",
    "import hashlib\n",
    "import time\n",
    "from pathlib import Path\n",
    "import fitz  # PyMuPDF"
   ]
  },
  {
   "cell_type": "code",
   "execution_count": 6,
   "id": "fe24ef2b-b498-47ec-ab58-6ccfc4da28e7",
   "metadata": {},
   "outputs": [],
   "source": [
    "def slugify(s):\n",
    "    \"\"\"Convert text to a safe slug for IDs.\"\"\"\n",
    "    return re.sub(r'[^A-Za-z0-9]+', '-', s.strip()).strip('-')"
   ]
  },
  {
   "cell_type": "code",
   "execution_count": 7,
   "id": "f7f136fe-b892-4580-8027-9f4f6e1e472c",
   "metadata": {},
   "outputs": [],
   "source": [
    "def sha256_file(path):\n",
    "    \"\"\"Calculate SHA-256 hash of a file.\"\"\"\n",
    "    h = hashlib.sha256()\n",
    "    with open(path, 'rb') as f:\n",
    "        for b in iter(lambda: f.read(1 << 20), b''):\n",
    "            h.update(b)\n",
    "    return h.hexdigest()"
   ]
  },
  {
   "cell_type": "code",
   "execution_count": 8,
   "id": "32604549-f0c4-4195-96a6-c126b73c1928",
   "metadata": {},
   "outputs": [],
   "source": [
    "def chunk_text(text, max_chars=2200, overlap=0):\n",
    "    \"\"\"Split text into chunks of max_chars length.\"\"\"\n",
    "    start = 0\n",
    "    while start < len(text):\n",
    "        end = min(start + max_chars, len(text))\n",
    "        yield (start, end, text[start:end].strip())\n",
    "        start = max(end - overlap, end)"
   ]
  },
  {
   "cell_type": "code",
   "execution_count": 9,
   "id": "b0002e88-4efe-4530-ac2e-04e30eb42faf",
   "metadata": {},
   "outputs": [],
   "source": [
    "def make_ids(country, visa_type, year, doc_slug, page_num, seq):\n",
    "    \"\"\"Generate doc_id and chunk_id.\"\"\"\n",
    "    doc_id = f\"{country}-{slugify(visa_type)}-{year}-{doc_slug}\"\n",
    "    chunk_id = f\"{doc_id}-Pg{page_num}-{seq:03d}\"\n",
    "    return doc_id, chunk_id"
   ]
  },
  {
   "cell_type": "code",
   "execution_count": 10,
   "id": "627238f4-04e9-4b9c-927a-09db1ffed374",
   "metadata": {},
   "outputs": [],
   "source": [
    "def pdf_to_chunks(pdf_path, meta, out_path):\n",
    "    pdf_path = Path(pdf_path)\n",
    "    if not pdf_path.exists():\n",
    "        raise FileNotFoundError(f\"PDF file not found: {pdf_path}\")\n",
    "\n",
    "   # Read PDF\n",
    "    doc = fitz.open(str(pdf_path))\n",
    "    doc_sha = sha256_file(pdf_path)\n",
    "    meta[\"doc_sha256\"] = doc_sha\n",
    "\n",
    "    all_chunks = []\n",
    "    seq = 1\n",
    "\n",
    "    for page_num in range(len(doc)):\n",
    "        page = doc[page_num]\n",
    "        text = page.get_text(\"text\")\n",
    "        for cs, ce, chunk in chunk_text(text):\n",
    "            doc_id, chunk_id = make_ids(meta[\"country\"], meta[\"visa_type\"], meta[\"year\"], meta[\"doc_slug\"], page_num+1, seq)\n",
    "            chunk_meta = {\n",
    "                \"chunk_id\": chunk_id,\n",
    "                \"doc_id\": doc_id,\n",
    "                \"source\": meta[\"source\"],\n",
    "                \"url\": meta[\"url\"],\n",
    "                \"country\": meta[\"country\"],\n",
    "                \"visa_type\": meta[\"visa_type\"],\n",
    "                \"effective_date\": meta[\"effective_date\"],\n",
    "                \"version\": meta[\"version\"],\n",
    "                \"doc_sha256\": meta[\"doc_sha256\"],\n",
    "                \"retrieved_at\": time.strftime(\"%Y-%m-%dT%H:%M:%SZ\", time.gmtime()),\n",
    "                \"page\": page_num+1,\n",
    "                \"pages\": [page_num+1],\n",
    "                \"section_title\": None,  # Optional: detect from headings\n",
    "                \"language\": \"en\",\n",
    "                \"char_start\": cs,\n",
    "                \"char_end\": ce,\n",
    "                \"text\": chunk\n",
    "            }\n",
    "            all_chunks.append(chunk_meta)\n",
    "            seq += 1\n",
    "\n",
    "    out_path = Path(out_path)\n",
    "    out_path.parent.mkdir(parents=True, exist_ok=True)\n",
    "\n",
    "    with open(out_path, \"w\", encoding=\"utf-8\") as f:\n",
    "        for ch in all_chunks:\n",
    "            f.write(json.dumps(ch, ensure_ascii=False) + \"\\n\")\n",
    "\n",
    "    print(f\"✅ Saved {len(all_chunks)} chunks to {out_path}\")"
   ]
  },
  {
   "cell_type": "code",
   "execution_count": 15,
   "id": "981680dd-09c3-4006-bff6-a526b0612430",
   "metadata": {},
   "outputs": [
    {
     "name": "stdout",
     "output_type": "stream",
     "text": [
      "✅ Saved 144 chunks to C:\\Users\\ASUS\\OneDrive\\Desktop\\processed\\UK_StudentVisa_chunks.json\n"
     ]
    }
   ],
   "source": [
    "if __name__ == \"__main__\":\n",
    "    pdf_file = r\"C:\\Users\\ASUS\\OneDrive\\Desktop\\Student+and+Child+Student.pdf\"\n",
    "    output_file = r\"C:\\Users\\ASUS\\OneDrive\\Desktop\\processed\\UK_StudentVisa_chunks.json\"\n",
    "\n",
    "    meta_info = {\n",
    "        \"country\": \"UK\",\n",
    "        \"visa_type\": \"Student and Child Student\",\n",
    "        \"year\": \"2025\",\n",
    "        \"doc_slug\": \"UK Student Visa Guide 2024\",\n",
    "        \"source\": \"Student and Child Student\",\n",
    "        \"url\": \"https://gov.uk/student-visa\",\n",
    "        \"effective_date\": \"2025-07-16\",\n",
    "        \"version\": \"11.0\"\n",
    "    }\n",
    "\n",
    "    pdf_to_chunks(pdf_file, meta_info, output_file)"
   ]
  },
  {
   "cell_type": "code",
   "execution_count": null,
   "id": "d8c115a5-3875-41ed-a203-2e0da8ec723a",
   "metadata": {},
   "outputs": [],
   "source": []
  }
 ],
 "metadata": {
  "kernelspec": {
   "display_name": "Python [conda env:base] *",
   "language": "python",
   "name": "conda-base-py"
  },
  "language_info": {
   "codemirror_mode": {
    "name": "ipython",
    "version": 3
   },
   "file_extension": ".py",
   "mimetype": "text/x-python",
   "name": "python",
   "nbconvert_exporter": "python",
   "pygments_lexer": "ipython3",
   "version": "3.13.5"
  }
 },
 "nbformat": 4,
 "nbformat_minor": 5
}
