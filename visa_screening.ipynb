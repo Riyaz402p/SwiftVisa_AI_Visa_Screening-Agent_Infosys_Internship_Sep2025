{
 "cells": [
  {
   "cell_type": "markdown",
   "id": "40379623-fbd9-49ca-b053-7573e6ad42c7",
   "metadata": {},
   "source": [
    "# Visa Eligibility Screening Agent"
   ]
  },
  {
   "cell_type": "markdown",
   "id": "c19b005c-b2d3-43db-8a6e-7365f44309e2",
   "metadata": {},
   "source": [
    "### Importing Libraries"
   ]
  },
  {
   "cell_type": "code",
   "execution_count": 2,
   "id": "d6f2ac16-9987-4685-bc04-2f8b19fbd69f",
   "metadata": {},
   "outputs": [],
   "source": [
    "import re\n",
    "import unicodedata\n",
    "from sentence_transformers import SentenceTransformer\n",
    "import json\n",
    "from pathlib import Path\n",
    "import numpy as np\n",
    "from sentence_transformers import SentenceTransformer\n",
    "import faiss\n",
    "from transformers import pipeline\n",
    "from transformers import AutoTokenizer"
   ]
  },
  {
   "cell_type": "markdown",
   "id": "d05823f0-2a8c-4e29-8d6e-1da998c52aab",
   "metadata": {},
   "source": [
    "### PDF to JSON format"
   ]
  },
  {
   "cell_type": "code",
   "execution_count": 3,
   "id": "26dd01ff-afdd-4e12-9a36-9ae65e0e4a3a",
   "metadata": {},
   "outputs": [],
   "source": [
    "def normalize_slug(s: str, repl=\"-\"):\n",
    "    if s is None:\n",
    "        return \"\"\n",
    "    s = unicodedata.normalize(\"NFKC\", s).lower()\n",
    "    # Replace any character not alnum with hyphen\n",
    "    s = re.sub(r\"[^a-z0-9]+\", repl, s)\n",
    "    # Collapse multiple hyphens\n",
    "    s = re.sub(rf\"{repl}{{2,}}\", repl, s)\n",
    "    # Trim leading/trailing hyphens\n",
    "    s = s.strip(repl)\n",
    "    return s or \"na\""
   ]
  },
  {
   "cell_type": "code",
   "execution_count": 4,
   "id": "c830ebb8-5776-4697-93f1-f8f357bf329c",
   "metadata": {},
   "outputs": [],
   "source": [
    "# MiniLM compatible tokenizer\n",
    "tok = AutoTokenizer.from_pretrained(\"sentence-transformers/all-MiniLM-L6-v2\")\n",
    "\n",
    "def chunk_by_tokens(text: str, max_tokens=384, overlap=64):\n",
    "    ids = tok.encode(text, add_special_tokens=False)\n",
    "    n = len(ids)\n",
    "    start = 0\n",
    "    while start < n:\n",
    "        end = min(start + max_tokens, n)\n",
    "        chunk_ids = ids[start:end]\n",
    "        chunk_text = tok.decode(chunk_ids, skip_special_tokens=True)\n",
    "        # Find the character start/end by re-encoding chunk_text if needed\n",
    "        yield start, end, chunk_text\n",
    "        if end == n:\n",
    "            break\n",
    "        start = max(end - overlap, 0)"
   ]
  },
  {
   "cell_type": "code",
   "execution_count": 5,
   "id": "6b4a5b22-1c20-4b17-b276-70df2f8f3809",
   "metadata": {},
   "outputs": [],
   "source": [
    "def pdf_to_chunks_tokenwise(pdf_path, meta, out_path, max_tokens=256, overlap=32):\n",
    "    import fitz, time, json, hashlib\n",
    "    from pathlib import Path\n",
    "\n",
    "    pdf_path = Path(pdf_path)\n",
    "    if not pdf_path.exists():\n",
    "        raise FileNotFoundError(f\"PDF file not found: {pdf_path}\")\n",
    "\n",
    "    # SHA256\n",
    "    h = hashlib.sha256()\n",
    "    with open(pdf_path, \"rb\") as f:\n",
    "        for b in iter(lambda: f.read(1 << 20), b\"\"):\n",
    "            h.update(b)\n",
    "    docsha = h.hexdigest()\n",
    "    meta[\"docsha256\"] = docsha\n",
    "\n",
    "    doc = fitz.open(str(pdf_path))\n",
    "    all_chunks = []\n",
    "    seq = 1\n",
    "\n",
    "    country_slug = normalize_slug(meta[\"country\"])\n",
    "    visa_slug = normalize_slug(meta[\"visa_type\"])\n",
    "    year_slug = normalize_slug(str(meta[\"year\"]))\n",
    "    doc_slug = normalize_slug(meta[\"doc_slug\"])\n",
    "\n",
    "    for pagenum in range(len(doc)):\n",
    "        page = doc[pagenum]\n",
    "        text = page.get_text(\"text\")\n",
    "        # Normalize whitespace/control chars to spaces first\n",
    "        text = unicodedata.normalize(\"NFKC\", text)\n",
    "        text = re.sub(r\"\\s+\", \" \", text).strip()\n",
    "\n",
    "        for tstart, tend, ctext in chunk_by_tokens(text, max_tokens, overlap):\n",
    "            docid = f\"{country_slug}-{visa_slug}-{year_slug}-{doc_slug}\"\n",
    "            chunkid = f\"{docid}-Pg{pagenum+1}-seq{seq:03d}\"\n",
    "            chunkmeta = {\n",
    "                \"chunkid\": chunkid,\n",
    "                \"docid\": docid,\n",
    "                \"source\": meta.get(\"source\"),\n",
    "                \"url\": meta.get(\"url\"),\n",
    "                \"country\": meta.get(\"country\"),\n",
    "                \"visa_type\": meta.get(\"visatype\"),\n",
    "                \"effectivedate\": meta.get(\"effectivedate\"),\n",
    "                \"version\": meta.get(\"version\"),\n",
    "                \"docsha256\": docsha,\n",
    "                \"retrievedat\": time.strftime(\"%Y-%m-%dT%H:%M:%SZ\", time.gmtime()),\n",
    "                \"page\": pagenum + 1,\n",
    "                \"pages\": pagenum + 1,\n",
    "                \"sectiontitle\": None,\n",
    "                \"language\": \"en\",\n",
    "                \"token_start\": int(tstart),\n",
    "                \"token_end\": int(tend),\n",
    "                \"text\": ctext,\n",
    "            }\n",
    "            all_chunks.append(chunkmeta)\n",
    "            seq += 1\n",
    "\n",
    "    out_path = Path(out_path)\n",
    "    out_path.parent.mkdir(parents=True, exist_ok=True)\n",
    "    with open(out_path, \"w\", encoding=\"utf-8\") as f:\n",
    "        for ch in all_chunks:\n",
    "            f.write(json.dumps(ch, ensure_ascii=False) + \"\\n\")\n",
    "    print(f\"Saved {len(all_chunks)} chunks to {out_path}\")"
   ]
  },
  {
   "cell_type": "code",
   "execution_count": 7,
   "id": "37cce306-2cd3-4997-9e5e-3c4aff844273",
   "metadata": {},
   "outputs": [
    {
     "name": "stdout",
     "output_type": "stream",
     "text": [
      "Saved 181 chunks to C:\\Users\\Anvitha\\OneDrive\\Documents\\UK_StudentVisa_chunks.jsonl\n"
     ]
    }
   ],
   "source": [
    "if __name__ == \"__main__\":\n",
    "    pdf_file = r\"C:\\Users\\Anvitha\\OneDrive\\Documents\\UK.pdf\"\n",
    "    output_file = r\"C:\\Users\\Anvitha\\OneDrive\\Documents\\UK_StudentVisa_chunks.jsonl\"\n",
    "\n",
    "    meta_info = {\n",
    "        \"country\": \"UK\",\n",
    "        \"visa_type\": \"Student and Child Student\",\n",
    "        \"year\": \"2025\",\n",
    "        \"doc_slug\": \"UK Student Visa Guide 2024\",\n",
    "        \"source\": \"Student and Child Student\",\n",
    "        \"url\": \"https://gov.uk/student-visa\",\n",
    "        \"effective_date\": \"2025-07-16\",\n",
    "        \"version\": \"11.0\"\n",
    "    }\n",
    "\n",
    "    pdf_to_chunks_tokenwise(pdf_file, meta_info, output_file)"
   ]
  },
  {
   "cell_type": "markdown",
   "id": "1d6d4830-60bc-4c05-a92d-e371b14def10",
   "metadata": {},
   "source": [
    "### JSON Embeddings "
   ]
  },
  {
   "cell_type": "code",
   "execution_count": 8,
   "id": "f0806392-31e2-4b5f-ad4d-ccfa775ca26e",
   "metadata": {},
   "outputs": [
    {
     "name": "stdout",
     "output_type": "stream",
     "text": [
      "Loaded 181 chunks.\n"
     ]
    }
   ],
   "source": [
    "jsonl_path = r\"C:\\Users\\Anvitha\\OneDrive\\Documents\\UK_StudentVisa_chunks.jsonl\"\n",
    "\n",
    "chunks = []\n",
    "\n",
    "with open(jsonl_path, \"r\", encoding=\"utf-8\") as f:\n",
    "    for line in f:\n",
    "        chunks.append(json.loads(line))\n",
    "\n",
    "print(f\"Loaded {len(chunks)} chunks.\")\n"
   ]
  },
  {
   "cell_type": "code",
   "execution_count": 9,
   "id": "39534b67-3280-41f1-8972-756196f017c8",
   "metadata": {},
   "outputs": [],
   "source": [
    "# Initialize the embedding model\n",
    "model = SentenceTransformer('sentence-transformers/all-MiniLM-L6-v2')"
   ]
  },
  {
   "cell_type": "code",
   "execution_count": 11,
   "id": "dcd33724-d8a2-42bb-9712-dc0161dbb0df",
   "metadata": {},
   "outputs": [
    {
     "name": "stdout",
     "output_type": "stream",
     "text": [
      "Embeddings created and saved successfully\n"
     ]
    }
   ],
   "source": [
    "# Generate embeddings\n",
    "for chunk in chunks:\n",
    "    chunk['embedding'] = model.encode(chunk['text']).tolist()  # convert to list for JSON\n",
    "\n",
    "# Save the chunks with embeddings\n",
    "with open(r\"C:\\Users\\Anvitha\\OneDrive\\Documents\\chunks_with_embeddings.jsonl\", \"w\", encoding=\"utf-8\") as f:\n",
    "    for chunk in chunks:\n",
    "        f.write(json.dumps(chunk) + \"\\n\")\n",
    "\n",
    "print(\"Embeddings created and saved successfully\")"
   ]
  },
  {
   "cell_type": "markdown",
   "id": "d0e54893-e509-4ca6-8c77-432a8339fede",
   "metadata": {},
   "source": [
    "### RAG Pipeline"
   ]
  },
  {
   "cell_type": "code",
   "execution_count": 13,
   "id": "05ab9055-23e4-4038-b2ce-afd88e5bd376",
   "metadata": {},
   "outputs": [],
   "source": [
    "# Build FAISS index with cosine behavior\n",
    "def build_faiss_index(chunks_path):\n",
    "    # Load model and chunks\n",
    "    model = SentenceTransformer(\"sentence-transformers/all-MiniLM-L6-v2\")\n",
    "    chunks = []\n",
    "    with open(chunks_path, \"r\", encoding=\"utf-8\") as f:\n",
    "        for line in f:\n",
    "            chunks.append(json.loads(line))\n",
    "\n",
    "    # Collect embeddings and normalize to unit length\n",
    "    embeddings = np.array([chunk[\"embedding\"] for chunk in chunks], dtype=\"float32\")\n",
    "    faiss.normalize_L2(embeddings)  # in-place normalization to unit norm\n",
    "\n",
    "    # Use inner product index (dot product == cosine on unit vectors)\n",
    "    d = embeddings.shape[1]\n",
    "    index = faiss.IndexFlatIP(d)\n",
    "    index.add(embeddings)\n",
    "    return model, index, chunks\n",
    "\n"
   ]
  },
  {
   "cell_type": "code",
   "execution_count": 16,
   "id": "6468c3a0-a2fc-4535-9740-2f4d332da230",
   "metadata": {},
   "outputs": [],
   "source": [
    "#Retrieval with normalized query\n",
    "def retrieve_chunks(query, model, index, chunks, top_k=5, min_score=0.3):\n",
    "    \"\"\"\n",
    "    Retrieve top chunks for a query from FAISS index.\n",
    "    Only return chunks with similarity >= min_score.\n",
    "    \"\"\"\n",
    "    # Encode query\n",
    "    q_emb = model.encode(query, convert_to_numpy=True, normalize_embeddings=True).astype(\"float32\")\n",
    "    faiss.normalize_L2(q_emb.reshape(1, -1))\n",
    "    \n",
    "    # Search\n",
    "    D, I = index.search(q_emb.reshape(1, -1), top_k)\n",
    "    \n",
    "    results = []\n",
    "    for score, idx in zip(D[0], I[0]):\n",
    "        if score >= min_score:\n",
    "            results.append(chunks[idx])\n",
    "    return results"
   ]
  },
  {
   "cell_type": "code",
   "execution_count": 17,
   "id": "ef723046-a9d3-43b8-b9a9-6ac253f9cfd6",
   "metadata": {},
   "outputs": [
    {
     "name": "stderr",
     "output_type": "stream",
     "text": [
      "Device set to use cpu\n"
     ]
    }
   ],
   "source": [
    "# Load generator model\n",
    "generator = pipeline(\n",
    "    \"text2text-generation\",\n",
    "    model=\"google/flan-t5-base\",\n",
    "    tokenizer=\"google/flan-t5-base\",\n",
    "    device=-1  \n",
    ")\n"
   ]
  },
  {
   "cell_type": "code",
   "execution_count": 18,
   "id": "685b093c-2eb7-47d9-9a49-6a4d42663b48",
   "metadata": {},
   "outputs": [],
   "source": [
    "# Answer generation\n",
    "def generate_answer(query, model, index, chunks, top_k=5, generator=None, min_score=0.3):\n",
    "    \"\"\"\n",
    "    Generate an answer for the query using retrieved chunks.\n",
    "    - Uses generator if provided.\n",
    "    - Falls back to concatenated chunks if generator is None.\n",
    "    - Returns \"No relevant information\" if nothing passes similarity threshold.\n",
    "    \"\"\"\n",
    "    \n",
    "    # Retrieve top chunks with threshold\n",
    "    retrieved = retrieve_chunks(query, model, index, chunks, top_k=top_k, min_score=min_score)\n",
    "    if not retrieved:\n",
    "        return \"No relevant information found.\", []\n",
    "        \n",
    "\n",
    "    # Prepare context and citations\n",
    "    context = \"\\n\\n\".join([f\"Source: {r.get('source', 'Unknown')}\\n{r['text']}\" for r in retrieved])\n",
    "    citations = [f\"{r.get('source', 'Unknown')} — {r['text']}\" for r in retrieved]\n",
    "    \n",
    "\n",
    "    # Use generator if available\n",
    "    if generator is not None:\n",
    "        prompt = f\"\"\"\n",
    "        You are a highly knowledgeable and formal Visa Eligibility Screening Assistant.Your role is to assess visa eligibility strictly\n",
    "        based on the provided policy documents, country regulations, and user details. Use only verified information from the supplied documents.\n",
    "        Avoid assumptions unless logically necessary, and always mention them clearly.\"\n",
    "\n",
    "        Context:\n",
    "        {context}\n",
    "\n",
    "        Question: {query}\n",
    "        Answer:\n",
    "        \"\"\"\n",
    "        output = generator(prompt, max_new_tokens=200)\n",
    "        return output[0][\"generated_text\"].strip(), citations\n",
    "\n",
    "        \n",
    "\n",
    "    # Fallback → concatenated chunks\n",
    "    answer = f\"Here is what I found based on the documents:\\n\\n{context}\"\n",
    "    return answer, citations\n"
   ]
  },
  {
   "cell_type": "code",
   "execution_count": null,
   "id": "6933d552-2930-4e4e-9ff6-e5eed92e652b",
   "metadata": {},
   "outputs": [],
   "source": [
    "### E"
   ]
  },
  {
   "cell_type": "code",
   "execution_count": 20,
   "id": "ed8533ce-b3d9-45d9-ae55-5cb8e938642b",
   "metadata": {},
   "outputs": [
    {
     "name": "stdout",
     "output_type": "stream",
     "text": [
      "\n",
      "Final Answer:\n",
      " Here is what I found based on the documents:\n",
      "\n",
      "Source: Student and Child Student\n",
      "page 47 of 75 published for home office staff on 22 july 2025 option new entrant criteria information required from sponsor the sponsor must confirm which recognised professional qualification the applicant is working towards – this must be a uk qualification accepted by the regulatory body for the profession. 4. applicant is working towards full registration or chartered status with the relevant professional body for the job they are sponsored for. the sponsor must confirm who the relevant professional body is and the applicant is working towards full registration or chartered status. if necessary, you can check the list of chartered bodies from the privy council. 5. applicant ’ s most recent permission, other than as a visitor, was under tier 4 ( general ) or the student route. the permission must either be current or have expired less than 2 years before the date of application. in that permission ( or previous ) permission, the applicant must have been sponsored to study one of the following courses ( not any other qualifications of an equivalent level ) : • a uk bachelor ’ s degree • a uk master ’ s degree • a uk phd or other doctoral qualification • a postgraduate certificate in education • a professional graduate diploma of education the applicant must have completed ( or be applying no more than 3 months before they are expected to complete ) the course. an exception applies\n",
      "\n",
      "Source: Student and Child Student\n",
      "requirements applicants must meet are split into 3 parts : 1. validity requirements – these outline the minimum criteria which must be met for the application to be considered fully. they ensure, for example, the applicant has used the correct form and supplied their identity documents. applications which do not meet these requirements are invalid and may be rejected. 2. suitability requirements – these check the suitability of the applicant to be granted any form of permission, not specifically whether they qualify as a skilled worker. applicants must not fall for refusal on general grounds or be in breach of immigration laws. applications which do not meet these requirements must be refused. 3. eligibility requirements – these are the main criteria specific to the skilled worker route. applications which do not meet these requirements must be refused. the table below sets out the paragraphs in appendix skilled worker for each of these requirements : application validity suitability eligibility main applicants – entry clearance and permission to stay sw 1. 1. to sw 1. 6. sw 2. 1. to sw 2. 2. sw 3. 1. to sw 16. 2. main applicants – settlement sw 19. 1. to sw 19. 4. sw 20. 1. to sw 20. 2. sw 21. 1. to sw 24. 4.\n",
      "\n",
      "Source: Student and Child Student\n",
      "page 50 of 75 published for home office staff on 22 july 2025 financial requirement this section explains how to assess the financial requirement ( previously known as maintenance ) for skilled workers. an applicant will automatically meet the financial requirement when they are applying for permission to stay in the uk, having been in the uk for at least 12 months with permission on the date of application. see the financial requirement guidance for details on how to consider this. when the above does not apply, an applicant can meet the financial requirement by either : • their sponsor ( providing they are a - rated ) certifying they will, if necessary, maintain and accommodate the applicant up to the end of the first month of their employment, to an amount of at least £1, 270 • providing evidence showing they have held funds of at least £1, 270 for a 28 - day period as set out in the financial requirement guidance ( this has reduced from the 90 - day requirement which existed for tier 2 applications ) related content contents\n",
      "\n",
      "Source: Student and Child Student\n",
      "professional graduate diploma of education the applicant must have completed ( or be applying no more than 3 months before they are expected to complete ) the course. an exception applies to phds and other doctoral qualifications, where the applicant must have completed at least 12 months ’ study in the uk towards the qualification. confirmation ( from the applicant or their sponsor ) the applicant has completed ( or the date they are expected to complete ) their course, or they have completed at least 12 months ’ study in the uk towards a phd or other doctoral qualification. check the applicant ’ s immigration history for other information.\n",
      "\n",
      "Source: Student and Child Student\n",
      "page 13 of 75 published for home office staff on 22 july 2025 from 22 july 2025 entry clearance applications or applications to switch into the skilled worker route are limited to : • rqf level 6 occupations listed in table 1 of appendix skilled occupations ; or • those jobs listed on the temporary shortage list from immigration rule sw 6. 1b ; or • jobs on the immigration salary list in appendix immigration salary list an applicant who is applying for permission to stay and has, or last had, permission as a student must meet one of the following conditions : • they must have completed the course of study for which the confirmation of acceptance for studies was assigned – this means they must have studied to the end of the course, although they do not need to have passed it • they must have completed a course to which paragraph st 27. 3 of appendix student applies – this means they may have changed to a different course, which must be at the same level or above as the course on their cas, unless it is the lower level of an integrated master ’ s or phd programme • they must be studying a course which will have finished before the start date on their cos • if their course is leading to a phd award, they must have completed at least 24 months of that course you can normally\n",
      "\n",
      "Citations:\n",
      " ['Student and Child Student — page 47 of 75 published for home office staff on 22 july 2025 option new entrant criteria information required from sponsor the sponsor must confirm which recognised professional qualification the applicant is working towards – this must be a uk qualification accepted by the regulatory body for the profession. 4. applicant is working towards full registration or chartered status with the relevant professional body for the job they are sponsored for. the sponsor must confirm who the relevant professional body is and the applicant is working towards full registration or chartered status. if necessary, you can check the list of chartered bodies from the privy council. 5. applicant ’ s most recent permission, other than as a visitor, was under tier 4 ( general ) or the student route. the permission must either be current or have expired less than 2 years before the date of application. in that permission ( or previous ) permission, the applicant must have been sponsored to study one of the following courses ( not any other qualifications of an equivalent level ) : • a uk bachelor ’ s degree • a uk master ’ s degree • a uk phd or other doctoral qualification • a postgraduate certificate in education • a professional graduate diploma of education the applicant must have completed ( or be applying no more than 3 months before they are expected to complete ) the course. an exception applies', 'Student and Child Student — requirements applicants must meet are split into 3 parts : 1. validity requirements – these outline the minimum criteria which must be met for the application to be considered fully. they ensure, for example, the applicant has used the correct form and supplied their identity documents. applications which do not meet these requirements are invalid and may be rejected. 2. suitability requirements – these check the suitability of the applicant to be granted any form of permission, not specifically whether they qualify as a skilled worker. applicants must not fall for refusal on general grounds or be in breach of immigration laws. applications which do not meet these requirements must be refused. 3. eligibility requirements – these are the main criteria specific to the skilled worker route. applications which do not meet these requirements must be refused. the table below sets out the paragraphs in appendix skilled worker for each of these requirements : application validity suitability eligibility main applicants – entry clearance and permission to stay sw 1. 1. to sw 1. 6. sw 2. 1. to sw 2. 2. sw 3. 1. to sw 16. 2. main applicants – settlement sw 19. 1. to sw 19. 4. sw 20. 1. to sw 20. 2. sw 21. 1. to sw 24. 4.', 'Student and Child Student — page 50 of 75 published for home office staff on 22 july 2025 financial requirement this section explains how to assess the financial requirement ( previously known as maintenance ) for skilled workers. an applicant will automatically meet the financial requirement when they are applying for permission to stay in the uk, having been in the uk for at least 12 months with permission on the date of application. see the financial requirement guidance for details on how to consider this. when the above does not apply, an applicant can meet the financial requirement by either : • their sponsor ( providing they are a - rated ) certifying they will, if necessary, maintain and accommodate the applicant up to the end of the first month of their employment, to an amount of at least £1, 270 • providing evidence showing they have held funds of at least £1, 270 for a 28 - day period as set out in the financial requirement guidance ( this has reduced from the 90 - day requirement which existed for tier 2 applications ) related content contents', 'Student and Child Student — professional graduate diploma of education the applicant must have completed ( or be applying no more than 3 months before they are expected to complete ) the course. an exception applies to phds and other doctoral qualifications, where the applicant must have completed at least 12 months ’ study in the uk towards the qualification. confirmation ( from the applicant or their sponsor ) the applicant has completed ( or the date they are expected to complete ) their course, or they have completed at least 12 months ’ study in the uk towards a phd or other doctoral qualification. check the applicant ’ s immigration history for other information.', 'Student and Child Student — page 13 of 75 published for home office staff on 22 july 2025 from 22 july 2025 entry clearance applications or applications to switch into the skilled worker route are limited to : • rqf level 6 occupations listed in table 1 of appendix skilled occupations ; or • those jobs listed on the temporary shortage list from immigration rule sw 6. 1b ; or • jobs on the immigration salary list in appendix immigration salary list an applicant who is applying for permission to stay and has, or last had, permission as a student must meet one of the following conditions : • they must have completed the course of study for which the confirmation of acceptance for studies was assigned – this means they must have studied to the end of the course, although they do not need to have passed it • they must have completed a course to which paragraph st 27. 3 of appendix student applies – this means they may have changed to a different course, which must be at the same level or above as the course on their cas, unless it is the lower level of an integrated master ’ s or phd programme • they must be studying a course which will have finished before the start date on their cos • if their course is leading to a phd award, they must have completed at least 24 months of that course you can normally']\n"
     ]
    }
   ],
   "source": [
    "chunks_path =r\"C:\\Users\\Anvitha\\OneDrive\\Documents\\chunks_with_embeddings.jsonl\"\n",
    "model, index, chunks = build_faiss_index(chunks_path)\n",
    "\n",
    "query = \"What are the eligibility requirements for a UK Student Visa?\"\n",
    "answer, citations = generate_answer(query, model, index, chunks, top_k=5)\n",
    "\n",
    "print(\"\\nFinal Answer:\\n\", answer)\n",
    "print(\"\\nCitations:\\n\", citations)"
   ]
  },
  {
   "cell_type": "code",
   "execution_count": 21,
   "id": "a2d69d3e-2f17-4100-84ed-f011dc22b3b3",
   "metadata": {},
   "outputs": [
    {
     "name": "stdout",
     "output_type": "stream",
     "text": [
      "\n",
      "Final Answer:\n",
      " Here is what I found based on the documents:\n",
      "\n",
      "Source: Student and Child Student\n",
      "professional graduate diploma of education the applicant must have completed ( or be applying no more than 3 months before they are expected to complete ) the course. an exception applies to phds and other doctoral qualifications, where the applicant must have completed at least 12 months ’ study in the uk towards the qualification. confirmation ( from the applicant or their sponsor ) the applicant has completed ( or the date they are expected to complete ) their course, or they have completed at least 12 months ’ study in the uk towards a phd or other doctoral qualification. check the applicant ’ s immigration history for other information.\n",
      "\n",
      "Source: Student and Child Student\n",
      "page 47 of 75 published for home office staff on 22 july 2025 option new entrant criteria information required from sponsor the sponsor must confirm which recognised professional qualification the applicant is working towards – this must be a uk qualification accepted by the regulatory body for the profession. 4. applicant is working towards full registration or chartered status with the relevant professional body for the job they are sponsored for. the sponsor must confirm who the relevant professional body is and the applicant is working towards full registration or chartered status. if necessary, you can check the list of chartered bodies from the privy council. 5. applicant ’ s most recent permission, other than as a visitor, was under tier 4 ( general ) or the student route. the permission must either be current or have expired less than 2 years before the date of application. in that permission ( or previous ) permission, the applicant must have been sponsored to study one of the following courses ( not any other qualifications of an equivalent level ) : • a uk bachelor ’ s degree • a uk master ’ s degree • a uk phd or other doctoral qualification • a postgraduate certificate in education • a professional graduate diploma of education the applicant must have completed ( or be applying no more than 3 months before they are expected to complete ) the course. an exception applies\n",
      "\n",
      "Source: Student and Child Student\n",
      "page 13 of 75 published for home office staff on 22 july 2025 from 22 july 2025 entry clearance applications or applications to switch into the skilled worker route are limited to : • rqf level 6 occupations listed in table 1 of appendix skilled occupations ; or • those jobs listed on the temporary shortage list from immigration rule sw 6. 1b ; or • jobs on the immigration salary list in appendix immigration salary list an applicant who is applying for permission to stay and has, or last had, permission as a student must meet one of the following conditions : • they must have completed the course of study for which the confirmation of acceptance for studies was assigned – this means they must have studied to the end of the course, although they do not need to have passed it • they must have completed a course to which paragraph st 27. 3 of appendix student applies – this means they may have changed to a different course, which must be at the same level or above as the course on their cas, unless it is the lower level of an integrated master ’ s or phd programme • they must be studying a course which will have finished before the start date on their cos • if their course is leading to a phd award, they must have completed at least 24 months of that course you can normally\n",
      "\n",
      "Source: Student and Child Student\n",
      ", unspecified discipline • 2311 higher education teaching professionals check the occupation code on the certificate of sponsorship. the job title or description must confirm it is a post - doctoral position. 3. applicant is working towards a recognised uk professional qualification in a uk - regulated profession. if necessary, you can check the uk regulated profession list to confirm whether the job is in a uk - regulated profession. a job qualifies if it appears on any of the four lists. you should request further job details from the sponsor if the sponsor has stated the applicant is working towards a uk professional qualification and it is unclear whether the job is in a uk - regulated profession.\n",
      "\n",
      "Source: Student and Child Student\n",
      "page 57 of 75 published for home office staff on 22 july 2025 • granted absences from the uk must be considered in line with appendix continuous residence. see the continuous residence guidance for further details. knowledge of life in the uk the applicant must meet the knowledge of life in the uk requirement as set out in appendix kol uk. they do not need to meet an english language requirement for settlement, as they will have met this in their previous skilled worker application. sponsorship and salary the eligibility rules ( paragraph sw 24. 1. ) require the sponsor to still hold a skilled worker licence. the sponsor must confirm they require the applicant to work for them for the foreseeable future, and the applicant will be paid at least the minimum salary in paragraph sw 24. 3. for the foreseeable future. the sponsor should not assign a new cos for this purpose – an email or letter is sufficient, as long as it can be verified with the sponsor if necessary. this salary must meet or exceed one of the options set out in the table below : option applicant ’ s circumstances general salary going rate a all cases where rows b to e do not apply. salary of at least £41, 700 per year at least the relevant going rate listed in tables 1 to 1a of\n",
      "\n",
      "Citations:\n",
      " ['Student and Child Student — professional graduate diploma of education the applicant must have completed ( or be applying no more than 3 months before they are expected to complete ) the course. an exception applies to phds and other doctoral qualifications, where the applicant must have completed at least 12 months ’ study in the uk towards the qualification. confirmation ( from the applicant or their sponsor ) the applicant has completed ( or the date they are expected to complete ) their course, or they have completed at least 12 months ’ study in the uk towards a phd or other doctoral qualification. check the applicant ’ s immigration history for other information.', 'Student and Child Student — page 47 of 75 published for home office staff on 22 july 2025 option new entrant criteria information required from sponsor the sponsor must confirm which recognised professional qualification the applicant is working towards – this must be a uk qualification accepted by the regulatory body for the profession. 4. applicant is working towards full registration or chartered status with the relevant professional body for the job they are sponsored for. the sponsor must confirm who the relevant professional body is and the applicant is working towards full registration or chartered status. if necessary, you can check the list of chartered bodies from the privy council. 5. applicant ’ s most recent permission, other than as a visitor, was under tier 4 ( general ) or the student route. the permission must either be current or have expired less than 2 years before the date of application. in that permission ( or previous ) permission, the applicant must have been sponsored to study one of the following courses ( not any other qualifications of an equivalent level ) : • a uk bachelor ’ s degree • a uk master ’ s degree • a uk phd or other doctoral qualification • a postgraduate certificate in education • a professional graduate diploma of education the applicant must have completed ( or be applying no more than 3 months before they are expected to complete ) the course. an exception applies', 'Student and Child Student — page 13 of 75 published for home office staff on 22 july 2025 from 22 july 2025 entry clearance applications or applications to switch into the skilled worker route are limited to : • rqf level 6 occupations listed in table 1 of appendix skilled occupations ; or • those jobs listed on the temporary shortage list from immigration rule sw 6. 1b ; or • jobs on the immigration salary list in appendix immigration salary list an applicant who is applying for permission to stay and has, or last had, permission as a student must meet one of the following conditions : • they must have completed the course of study for which the confirmation of acceptance for studies was assigned – this means they must have studied to the end of the course, although they do not need to have passed it • they must have completed a course to which paragraph st 27. 3 of appendix student applies – this means they may have changed to a different course, which must be at the same level or above as the course on their cas, unless it is the lower level of an integrated master ’ s or phd programme • they must be studying a course which will have finished before the start date on their cos • if their course is leading to a phd award, they must have completed at least 24 months of that course you can normally', 'Student and Child Student — , unspecified discipline • 2311 higher education teaching professionals check the occupation code on the certificate of sponsorship. the job title or description must confirm it is a post - doctoral position. 3. applicant is working towards a recognised uk professional qualification in a uk - regulated profession. if necessary, you can check the uk regulated profession list to confirm whether the job is in a uk - regulated profession. a job qualifies if it appears on any of the four lists. you should request further job details from the sponsor if the sponsor has stated the applicant is working towards a uk professional qualification and it is unclear whether the job is in a uk - regulated profession.', 'Student and Child Student — page 57 of 75 published for home office staff on 22 july 2025 • granted absences from the uk must be considered in line with appendix continuous residence. see the continuous residence guidance for further details. knowledge of life in the uk the applicant must meet the knowledge of life in the uk requirement as set out in appendix kol uk. they do not need to meet an english language requirement for settlement, as they will have met this in their previous skilled worker application. sponsorship and salary the eligibility rules ( paragraph sw 24. 1. ) require the sponsor to still hold a skilled worker licence. the sponsor must confirm they require the applicant to work for them for the foreseeable future, and the applicant will be paid at least the minimum salary in paragraph sw 24. 3. for the foreseeable future. the sponsor should not assign a new cos for this purpose – an email or letter is sufficient, as long as it can be verified with the sponsor if necessary. this salary must meet or exceed one of the options set out in the table below : option applicant ’ s circumstances general salary going rate a all cases where rows b to e do not apply. salary of at least £41, 700 per year at least the relevant going rate listed in tables 1 to 1a of']\n"
     ]
    }
   ],
   "source": [
    "chunks_path = r\"C:\\Users\\Anvitha\\OneDrive\\Documents\\chunks_with_embeddings.jsonl\"\n",
    "model, index, chunks = build_faiss_index(chunks_path)\n",
    "\n",
    "query = \"Is the student eligible for UK Student Visa?\"\n",
    "answer, citations = generate_answer(query, model, index, chunks, top_k=5)\n",
    "\n",
    "print(\"\\nFinal Answer:\\n\", answer)\n",
    "\n",
    "print(\"\\nCitations:\\n\", citations)"
   ]
  },
  {
   "cell_type": "code",
   "execution_count": 23,
   "id": "5d76128e-3306-4a8b-9b3f-56fb02473978",
   "metadata": {},
   "outputs": [
    {
     "name": "stdout",
     "output_type": "stream",
     "text": [
      "\n",
      "Final Answer:\n",
      " No relevant information found.\n",
      "\n",
      "Citations:\n",
      " []\n"
     ]
    }
   ],
   "source": [
    "chunks_path = r\"C:\\Users\\Anvitha\\OneDrive\\Documents\\chunks_with_embeddings.jsonl\"\n",
    "model, index, chunks = build_faiss_index(chunks_path)\n",
    "\n",
    "query = \"Where is my keyboard?\"\n",
    "answer, citations = generate_answer(query, model, index, chunks, top_k=5)\n",
    "\n",
    "print(\"\\nFinal Answer:\\n\", answer)\n",
    "print(\"\\nCitations:\\n\", citations)"
   ]
  },
  {
   "cell_type": "code",
   "execution_count": 24,
   "id": "43c72c69-9250-42be-93dd-4ffac6197686",
   "metadata": {},
   "outputs": [
    {
     "name": "stdout",
     "output_type": "stream",
     "text": [
      "\n",
      "Final Answer:\n",
      " Here is what I found based on the documents:\n",
      "\n",
      "Source: Student and Child Student\n",
      "page 28 of 75 published for home office staff on 22 july 2025 english language this section explains how to assess the english language requirement for skilled workers. the applicant must score 10 points for english language skills equivalent to level b1 of the common european framework of references for english language in all 4 components ( reading, writing, speaking and listening ). to award these points, you must be satisfied the application meets the requirements in paragraphs sw 7. 1. to sw 7. 4. to assess whether the requirement is met, you should refer to the english language guidance. non - poise see : english language guidance. related content contents mandatory points requirement\n",
      "\n",
      "Source: Student and Child Student\n",
      "professional graduate diploma of education the applicant must have completed ( or be applying no more than 3 months before they are expected to complete ) the course. an exception applies to phds and other doctoral qualifications, where the applicant must have completed at least 12 months ’ study in the uk towards the qualification. confirmation ( from the applicant or their sponsor ) the applicant has completed ( or the date they are expected to complete ) their course, or they have completed at least 12 months ’ study in the uk towards a phd or other doctoral qualification. check the applicant ’ s immigration history for other information.\n",
      "\n",
      "Source: Student and Child Student\n",
      "page 47 of 75 published for home office staff on 22 july 2025 option new entrant criteria information required from sponsor the sponsor must confirm which recognised professional qualification the applicant is working towards – this must be a uk qualification accepted by the regulatory body for the profession. 4. applicant is working towards full registration or chartered status with the relevant professional body for the job they are sponsored for. the sponsor must confirm who the relevant professional body is and the applicant is working towards full registration or chartered status. if necessary, you can check the list of chartered bodies from the privy council. 5. applicant ’ s most recent permission, other than as a visitor, was under tier 4 ( general ) or the student route. the permission must either be current or have expired less than 2 years before the date of application. in that permission ( or previous ) permission, the applicant must have been sponsored to study one of the following courses ( not any other qualifications of an equivalent level ) : • a uk bachelor ’ s degree • a uk master ’ s degree • a uk phd or other doctoral qualification • a postgraduate certificate in education • a professional graduate diploma of education the applicant must have completed ( or be applying no more than 3 months before they are expected to complete ) the course. an exception applies\n",
      "\n",
      "Source: Student and Child Student\n",
      "page 57 of 75 published for home office staff on 22 july 2025 • granted absences from the uk must be considered in line with appendix continuous residence. see the continuous residence guidance for further details. knowledge of life in the uk the applicant must meet the knowledge of life in the uk requirement as set out in appendix kol uk. they do not need to meet an english language requirement for settlement, as they will have met this in their previous skilled worker application. sponsorship and salary the eligibility rules ( paragraph sw 24. 1. ) require the sponsor to still hold a skilled worker licence. the sponsor must confirm they require the applicant to work for them for the foreseeable future, and the applicant will be paid at least the minimum salary in paragraph sw 24. 3. for the foreseeable future. the sponsor should not assign a new cos for this purpose – an email or letter is sufficient, as long as it can be verified with the sponsor if necessary. this salary must meet or exceed one of the options set out in the table below : option applicant ’ s circumstances general salary going rate a all cases where rows b to e do not apply. salary of at least £41, 700 per year at least the relevant going rate listed in tables 1 to 1a of\n",
      "\n",
      "Source: Student and Child Student\n",
      "page 16 of 75 published for home office staff on 22 july 2025 tuberculosis certificates this section tells you about the tuberculosis ( tb ) certificate requirement for applications for entry clearance in the skilled worker route. an applicant must provide a valid tb certificate with their application, if they have been residing within a country listed in appendix tb of the immigration rules for more than 6 months immediately preceding the application. if an applicant has not supplied a valid tb test certificate when they are required to, you should refuse the application under paragraph sw 3. 2. there is information on gov. uk regarding which applicants are required to obtain a tb certificate before applying, including a list of approved test centres. related content contents\n",
      "\n",
      "Citations:\n",
      " ['Student and Child Student — page 28 of 75 published for home office staff on 22 july 2025 english language this section explains how to assess the english language requirement for skilled workers. the applicant must score 10 points for english language skills equivalent to level b1 of the common european framework of references for english language in all 4 components ( reading, writing, speaking and listening ). to award these points, you must be satisfied the application meets the requirements in paragraphs sw 7. 1. to sw 7. 4. to assess whether the requirement is met, you should refer to the english language guidance. non - poise see : english language guidance. related content contents mandatory points requirement', 'Student and Child Student — professional graduate diploma of education the applicant must have completed ( or be applying no more than 3 months before they are expected to complete ) the course. an exception applies to phds and other doctoral qualifications, where the applicant must have completed at least 12 months ’ study in the uk towards the qualification. confirmation ( from the applicant or their sponsor ) the applicant has completed ( or the date they are expected to complete ) their course, or they have completed at least 12 months ’ study in the uk towards a phd or other doctoral qualification. check the applicant ’ s immigration history for other information.', 'Student and Child Student — page 47 of 75 published for home office staff on 22 july 2025 option new entrant criteria information required from sponsor the sponsor must confirm which recognised professional qualification the applicant is working towards – this must be a uk qualification accepted by the regulatory body for the profession. 4. applicant is working towards full registration or chartered status with the relevant professional body for the job they are sponsored for. the sponsor must confirm who the relevant professional body is and the applicant is working towards full registration or chartered status. if necessary, you can check the list of chartered bodies from the privy council. 5. applicant ’ s most recent permission, other than as a visitor, was under tier 4 ( general ) or the student route. the permission must either be current or have expired less than 2 years before the date of application. in that permission ( or previous ) permission, the applicant must have been sponsored to study one of the following courses ( not any other qualifications of an equivalent level ) : • a uk bachelor ’ s degree • a uk master ’ s degree • a uk phd or other doctoral qualification • a postgraduate certificate in education • a professional graduate diploma of education the applicant must have completed ( or be applying no more than 3 months before they are expected to complete ) the course. an exception applies', 'Student and Child Student — page 57 of 75 published for home office staff on 22 july 2025 • granted absences from the uk must be considered in line with appendix continuous residence. see the continuous residence guidance for further details. knowledge of life in the uk the applicant must meet the knowledge of life in the uk requirement as set out in appendix kol uk. they do not need to meet an english language requirement for settlement, as they will have met this in their previous skilled worker application. sponsorship and salary the eligibility rules ( paragraph sw 24. 1. ) require the sponsor to still hold a skilled worker licence. the sponsor must confirm they require the applicant to work for them for the foreseeable future, and the applicant will be paid at least the minimum salary in paragraph sw 24. 3. for the foreseeable future. the sponsor should not assign a new cos for this purpose – an email or letter is sufficient, as long as it can be verified with the sponsor if necessary. this salary must meet or exceed one of the options set out in the table below : option applicant ’ s circumstances general salary going rate a all cases where rows b to e do not apply. salary of at least £41, 700 per year at least the relevant going rate listed in tables 1 to 1a of', 'Student and Child Student — page 16 of 75 published for home office staff on 22 july 2025 tuberculosis certificates this section tells you about the tuberculosis ( tb ) certificate requirement for applications for entry clearance in the skilled worker route. an applicant must provide a valid tb certificate with their application, if they have been residing within a country listed in appendix tb of the immigration rules for more than 6 months immediately preceding the application. if an applicant has not supplied a valid tb test certificate when they are required to, you should refuse the application under paragraph sw 3. 2. there is information on gov. uk regarding which applicants are required to obtain a tb certificate before applying, including a list of approved test centres. related content contents']\n"
     ]
    }
   ],
   "source": [
    "chunks_path = r\"C:\\Users\\Anvitha\\OneDrive\\Documents\\chunks_with_embeddings.jsonl\"\n",
    "model, index, chunks = build_faiss_index(chunks_path)\n",
    "\n",
    "query = \"I am from India and applying for UK Student Visa. Do I need to improve my English speaking ability to get UK Student Visa?\"\n",
    "answer, citations = generate_answer(query, model, index, chunks, top_k=5)\n",
    "\n",
    "print(\"\\nFinal Answer:\\n\", answer)\n",
    "print(\"\\nCitations:\\n\", citations)"
   ]
  },
  {
   "cell_type": "code",
   "execution_count": null,
   "id": "70e6f05e-2685-46e1-b609-c86d47a468ed",
   "metadata": {},
   "outputs": [],
   "source": []
  }
 ],
 "metadata": {
  "kernelspec": {
   "display_name": "Python 3 (ipykernel)",
   "language": "python",
   "name": "python3"
  },
  "language_info": {
   "codemirror_mode": {
    "name": "ipython",
    "version": 3
   },
   "file_extension": ".py",
   "mimetype": "text/x-python",
   "name": "python",
   "nbconvert_exporter": "python",
   "pygments_lexer": "ipython3",
   "version": "3.13.5"
  }
 },
 "nbformat": 4,
 "nbformat_minor": 5
}
