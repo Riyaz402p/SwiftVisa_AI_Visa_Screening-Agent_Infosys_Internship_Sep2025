{
 "cells": [
  {
   "cell_type": "code",
   "execution_count": 1,
   "id": "2bcaf4db-8124-4b3a-9b63-e84fc61fd019",
   "metadata": {},
   "outputs": [],
   "source": [
    "import re\n",
    "import json\n",
    "import hashlib\n",
    "import time\n",
    "from pathlib import Path\n",
    "import fitz  # PyMuPDF"
   ]
  },
  {
   "cell_type": "code",
   "execution_count": 2,
   "id": "e0ee56ef-b8b6-4b62-89ab-d11d6e3f0f7b",
   "metadata": {},
   "outputs": [],
   "source": [
    "def slugify(s):\n",
    "    \"\"\"Convert text to a safe slug for IDs.\"\"\"\n",
    "    return re.sub(r'[^A-Za-z0-9]+', '-', s.strip()).strip('-')"
   ]
  },
  {
   "cell_type": "code",
   "execution_count": 12,
   "id": "97924b6b-f3a5-4416-af3c-102d254b46ac",
   "metadata": {},
   "outputs": [],
   "source": [
    "def sha256_file(path):\n",
    "    \"\"\"Calculate SHA-256 hash of a file.\"\"\"\n",
    "    h = hashlib.sha256()\n",
    "    with open(path, 'rb') as f:\n",
    "        for b in iter(lambda: f.read(1 << 20), b''):\n",
    "            h.update(b)\n",
    "    return h.hexdigest()"
   ]
  },
  {
   "cell_type": "code",
   "execution_count": 4,
   "id": "3c87cd26-dc2a-4ce7-926d-6743dc3fa93b",
   "metadata": {},
   "outputs": [],
   "source": [
    "def chunk_text(text, max_chars=2200, overlap=0):\n",
    "    \"\"\"Split text into chunks of max_chars length.\"\"\"\n",
    "    start = 0\n",
    "    while start < len(text):\n",
    "        end = min(start + max_chars, len(text))\n",
    "        yield (start, end, text[start:end].strip())\n",
    "        start = max(end - overlap, end)"
   ]
  },
  {
   "cell_type": "code",
   "execution_count": 5,
   "id": "7dbdb0f5-8785-4188-9a5e-82c05c22b304",
   "metadata": {},
   "outputs": [],
   "source": [
    "def make_ids(country, visa_type, year, doc_slug, page_num, seq):\n",
    "    \"\"\"Generate doc_id and chunk_id.\"\"\"\n",
    "    doc_id = f\"{country}-{slugify(visa_type)}-{year}-{doc_slug}\"\n",
    "    chunk_id = f\"{doc_id}-Pg{page_num}-{seq:03d}\"\n",
    "    return doc_id, chunk_id"
   ]
  },
  {
   "cell_type": "code",
   "execution_count": 8,
   "id": "38538a97-f32a-45a4-bfa3-5821600eb36d",
   "metadata": {},
   "outputs": [],
   "source": [
    "def pdf_to_chunks(pdf_path, meta, out_path):\n",
    "    pdf_path = Path(pdf_path)\n",
    "    if not pdf_path.exists():\n",
    "        raise FileNotFoundError(f\"PDF file not found: {pdf_path}\")\n",
    "\n",
    "   # Read PDF\n",
    "    doc = fitz.open(str(pdf_path))\n",
    "    doc_sha = sha256_file(pdf_path)\n",
    "    meta[\"doc_sha256\"] = doc_sha\n",
    "\n",
    "    all_chunks = []\n",
    "    seq = 1\n",
    "\n",
    "    for page_num in range(len(doc)):\n",
    "        page = doc[page_num]\n",
    "        text = page.get_text(\"text\")\n",
    "        for cs, ce, chunk in chunk_text(text):\n",
    "            doc_id, chunk_id = make_ids(meta[\"country\"], meta[\"visa_type\"], meta[\"year\"], meta[\"doc_slug\"], page_num+1, seq)\n",
    "            chunk_meta = {\n",
    "                \"chunk_id\": chunk_id,\n",
    "                \"doc_id\": doc_id,\n",
    "                \"source\": meta[\"source\"],\n",
    "                \"url\": meta[\"url\"],\n",
    "                \"country\": meta[\"country\"],\n",
    "                \"visa_type\": meta[\"visa_type\"],\n",
    "                \"effective_date\": meta[\"effective_date\"],\n",
    "                \"version\": meta[\"version\"],\n",
    "                \"doc_sha256\": meta[\"doc_sha256\"],\n",
    "                \"retrieved_at\": time.strftime(\"%Y-%m-%dT%H:%M:%SZ\", time.gmtime()),\n",
    "                \"page\": page_num+1,\n",
    "                \"pages\": [page_num+1],\n",
    "                \"section_title\": None,  # Optional: detect from headings\n",
    "                \"language\": \"en\",\n",
    "                \"char_start\": cs,\n",
    "                \"char_end\": ce,\n",
    "                \"text\": chunk\n",
    "            }\n",
    "            all_chunks.append(chunk_meta)\n",
    "            seq += 1\n",
    "\n",
    "    out_path = Path(out_path)\n",
    "    out_path.parent.mkdir(parents=True, exist_ok=True)\n",
    "\n",
    "    with open(out_path, \"w\", encoding=\"utf-8\") as f:\n",
    "        for ch in all_chunks:\n",
    "            f.write(json.dumps(ch, ensure_ascii=False) + \"\\n\")\n",
    "\n",
    "    print(f\"✅ Saved {len(all_chunks)} chunks to {out_path}\")"
   ]
  },
  {
   "cell_type": "code",
   "execution_count": 11,
   "id": "c42a31f1-e4ce-490d-b978-b38bdde89fb2",
   "metadata": {},
   "outputs": [
    {
     "name": "stdout",
     "output_type": "stream",
     "text": [
      "✅ Saved 144 chunks to E:\\Info_Srping\\swiftvisa\\data\\processed\\UK_StudentVisa_chunks.jsonl\n"
     ]
    }
   ],
   "source": [
    "if __name__ == \"__main__\":\n",
    "    pdf_file = r\"E:\\Info_Srping\\swiftvisa\\data\\raw\\UK_Student_Visa.pdf\"\n",
    "    output_file = r\"E:\\Info_Srping\\swiftvisa\\data\\processed\\UK_StudentVisa_chunks.jsonl\"\n",
    "\n",
    "    meta_info = {\n",
    "        \"country\": \"UK\",\n",
    "        \"visa_type\": \"Student and Child Student\",\n",
    "        \"year\": \"2025\",\n",
    "        \"doc_slug\": \"UK Student Visa Guide 2024\",\n",
    "        \"source\": \"Student and Child Student\",\n",
    "        \"url\": \"https://gov.uk/student-visa\",\n",
    "        \"effective_date\": \"2025-07-16\",\n",
    "        \"version\": \"11.0\"\n",
    "    }\n",
    "\n",
    "    pdf_to_chunks(pdf_file, meta_info, output_file)"
   ]
  }
 ],
 "metadata": {
  "kernelspec": {
   "display_name": "Python 3 (ipykernel)",
   "language": "python",
   "name": "python3"
  },
  "language_info": {
   "codemirror_mode": {
    "name": "ipython",
    "version": 3
   },
   "file_extension": ".py",
   "mimetype": "text/x-python",
   "name": "python",
   "nbconvert_exporter": "python",
   "pygments_lexer": "ipython3",
   "version": "3.11.5"
  }
 },
 "nbformat": 4,
 "nbformat_minor": 5
}
