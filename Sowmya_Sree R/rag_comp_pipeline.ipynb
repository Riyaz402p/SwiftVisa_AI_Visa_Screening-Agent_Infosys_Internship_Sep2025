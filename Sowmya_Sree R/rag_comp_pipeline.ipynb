{
 "cells": [
  {
   "cell_type": "code",
   "execution_count": null,
   "id": "14314c55-d34d-470b-9559-c2718e4bdbaf",
   "metadata": {},
   "outputs": [
    {
     "name": "stderr",
     "output_type": "stream",
     "text": [
      "C:\\Users\\DELL\\AppData\\Local\\Programs\\Python\\Python311\\Lib\\site-packages\\torchvision\\io\\image.py:13: UserWarning: Failed to load image Python extension: '[WinError 127] The specified procedure could not be found'If you don't plan on using image functionality from `torchvision.io`, you can ignore this warning. Otherwise, there might be something wrong with your environment. Did you have `libjpeg` or `libpng` installed before building `torchvision` from source?\n",
      "  warn(\n"
     ]
    },
    {
     "name": "stdout",
     "output_type": "stream",
     "text": [
      "WARNING:tensorflow:From C:\\Users\\DELL\\AppData\\Local\\Programs\\Python\\Python311\\Lib\\site-packages\\tf_keras\\src\\losses.py:2976: The name tf.losses.sparse_softmax_cross_entropy is deprecated. Please use tf.compat.v1.losses.sparse_softmax_cross_entropy instead.\n",
      "\n"
     ]
    }
   ],
   "source": [
    "from sentence_transformers import SentenceTransformer\n",
    "import numpy as np\n",
    "import faiss\n",
    "import json\n",
    "from transformers import pipeline"
   ]
  },
  {
   "cell_type": "code",
   "execution_count": null,
   "id": "d27b88e1-ab3d-4be1-a532-744d2ef449b8",
   "metadata": {},
   "outputs": [],
   "source": [
    "# -----------------------------\n",
    "# 1. Build FAISS Index in rag_pipeline\n",
    "# -----------------------------\n",
    "def build_faiss_index(chunks_path):\n",
    "    # Load model\n",
    "    model = SentenceTransformer('sentence-transformers/all-MiniLM-L6-v2')\n",
    "\n",
    "    # Load chunks from file\n",
    "    chunks = []\n",
    "    with open(chunks_path, \"r\", encoding=\"utf-8\") as f:\n",
    "        for line in f:\n",
    "            chunks.append(json.loads(line))\n",
    "\n",
    "    # Create FAISS index\n",
    "    embedding_dim = len(chunks[0]['embedding'])\n",
    "    index = faiss.IndexFlatL2(embedding_dim)\n",
    "    embeddings = np.array([chunk['embedding'] for chunk in chunks]).astype('float32')\n",
    "    index.add(embeddings)\n",
    "\n",
    "    return model, index, chunks\n"
   ]
  },
  {
   "cell_type": "code",
   "execution_count": null,
   "id": "44deb829-b52f-473b-bd01-504c5a6f645c",
   "metadata": {},
   "outputs": [],
   "source": [
    "# -----------------------------\n",
    "# 2. Retrieve function\n",
    "# -----------------------------\n",
    "def retrieve_chunks(query, model, index, chunks, top_k=5):\n",
    "    query_embedding = model.encode(query).astype('float32')\n",
    "    D, I = index.search(np.array([query_embedding]), top_k)\n",
    "    results = [chunks[i] for i in I[0]]\n",
    "    return results\n"
   ]
  },
  {
   "cell_type": "code",
   "execution_count": null,
   "id": "ec4eb0c6-415d-451a-a99b-8918a8d4391a",
   "metadata": {},
   "outputs": [
    {
     "name": "stderr",
     "output_type": "stream",
     "text": [
      "Device set to use cpu\n"
     ]
    }
   ],
   "source": [
    "# -----------------------------\n",
    "# 3. Load generator model\n",
    "# -----------------------------\n",
    "generator = pipeline(\n",
    "    \"text2text-generation\",\n",
    "    model=\"google/flan-t5-base\",\n",
    "    tokenizer=\"google/flan-t5-base\",\n",
    "    device=-1  # CPU; use 0 for GPU\n",
    ")\n"
   ]
  },
  {
   "cell_type": "code",
   "execution_count": null,
   "id": "36505dca-873e-4041-a90b-ecc5e57af02c",
   "metadata": {},
   "outputs": [],
   "source": [
    "# -----------------------------\n",
    "# 4. Answer generation\n",
    "# -----------------------------\n",
    "def generate_answer(query, model, index, chunks, top_k=5):\n",
    "    \n",
    "    # Step 1: Retrieve\n",
    "    retrieved = retrieve_chunks(query, model, index, chunks, top_k=top_k)\n",
    "\n",
    "    # Step 2: Prepare context\n",
    "    context = \"\\n\\n\".join([f\"Source: {r.get('source', 'Unknown')}\\n{r['text']}\" for r in retrieved])\n",
    "\n",
    "    # Step 3: Build prompt\n",
    "    prompt = f\"\"\"\n",
    "    You are an expert eligibility officer.\n",
    "    Using only the context below, answer the question truthfully.\n",
    "    If the answer is not in the context, say \"I cannot find relevant information.\"\n",
    "\n",
    "    Context:\n",
    "    {context}\n",
    "\n",
    "    Question: {query}\n",
    "    Answer:\n",
    "    \"\"\"\n",
    "\n",
    "    # Step 4: Generate\n",
    "    output = generator(prompt, max_new_tokens=200)\n",
    "\n",
    "    # Step 5: Collect citations\n",
    "    #citations = list({r.get('source', 'Unknown') for r in retrieved})\n",
    "    citations = [f\"{r.get('source', 'Unknown')} — {r['text']}\" for r in retrieved]\n",
    "\n",
    "    return output[0][\"generated_text\"], citations\n",
    "\n"
   ]
  },
  {
   "cell_type": "code",
   "execution_count": null,
   "id": "0535d827-face-4421-a204-0dd086f3554a",
   "metadata": {},
   "outputs": [
    {
     "name": "stderr",
     "output_type": "stream",
     "text": [
      "Token indices sequence length is longer than the specified maximum sequence length for this model (1763 > 512). Running this sequence through the model will result in indexing errors\n"
     ]
    },
    {
     "name": "stdout",
     "output_type": "stream",
     "text": [
      "\n",
      "Final Answer:\n",
      " Yes\n",
      "\n",
      "Citations:\n",
      " ['Student and Child Student']\n"
     ]
    }
   ],
   "source": [
    "# -----------------------------\n",
    "# 5. Run everything\n",
    "# -----------------------------\n",
    "chunks_path = r\"E:\\Info_Srping\\swiftvisa\\index\\chunks_with_embeddings.jsonl\"\n",
    "model, index, chunks = build_faiss_index(chunks_path)\n",
    "\n",
    "query = \"Is the student eligible for UK Student Visa?\"\n",
    "answer, citations = generate_answer(query, model, index, chunks, top_k=5)\n",
    "\n",
    "print(\"\\nFinal Answer:\\n\", answer)\n",
    "print(\"\\nCitations:\\n\", citations)"
   ]
  },
  {
   "cell_type": "code",
   "execution_count": null,
   "id": "f1992835-aa33-42dc-81e1-35ecd950d2a8",
   "metadata": {},
   "outputs": [
    {
     "name": "stdout",
     "output_type": "stream",
     "text": [
      "\n",
      "Final Answer:\n",
      " validity requirements for the Student route, contained in Appendix Student ST 1.1 to 1.5 • the validity requirements for the Child Student route, contained in Appendix Child Student CS 1.1 to 1.5 • the validity requirements for dependants of a Student, contained in Appendix Student ST 28.1 to 28.4 Detailed guidance on how to assess the validity requirements can be found in the Validation, variation, voiding and withdrawing of applications guidance. The caseworker must conduct verification checks if they have any doubts about whether the supporting documents an applicant has submitted are genuine. If an applicant has previously had official financial sponsorship from a government or international sponsorship agency, covering both course fees and living costs, it is a validation requirement that they must obtain consent from the financial sponsor to a further application for permission to study in the UK as a Student being made within 12 months of completing that course, or within 12 months of the award of\n",
      "\n",
      "Citations:\n",
      " ['Student and Child Student']\n"
     ]
    }
   ],
   "source": [
    "chunks_path = r\"E:\\Info_Srping\\swiftvisa\\index\\chunks_with_embeddings.jsonl\"\n",
    "model, index, chunks = build_faiss_index(chunks_path)\n",
    "\n",
    "query = \"What are the eligibility requirements for a UK Student Visa?\"\n",
    "answer, citations = generate_answer(query, model, index, chunks, top_k=5)\n",
    "\n",
    "print(\"\\nFinal Answer:\\n\", answer)\n",
    "print(\"\\nCitations:\\n\", citations)"
   ]
  },
  {
   "cell_type": "code",
   "execution_count": null,
   "id": "cfcfeda9-2b06-4e21-9edc-ffed564cecb9",
   "metadata": {},
   "outputs": [
    {
     "name": "stdout",
     "output_type": "stream",
     "text": [
      "\n",
      "Final Answer:\n",
      " Yes\n",
      "\n",
      "Citations:\n",
      " ['Student and Child Student — Page 48 of 107  Published for Home Office staff on 16 July 2025 \\nStudent: English language requirement \\nThis page tells caseworkers about the English language requirement for applicants \\non the Student route. \\n \\nApplicants on the Student route must meet a required level of English language \\nability depending on the level of their course.  \\n \\nThe caseworker must check the applicant’s Confirmation of Acceptance for Studies \\nto determine what level of English is required and what assessment was carried out \\nor what evidence has been used to demonstrate that the applicant meets the \\nrequirement. \\n \\nIf applying to study a course below degree level, the applicant must have the \\nequivalent of level B1 of the Common European Framework of References for \\nEnglish language.  \\n \\nIf applying to study a course at degree level or above, the applicant must have the \\nequivalent of level B2 of the Common European Framework of References for \\nEnglish language.  \\n \\nApplicants on a combined pre-sessional course need to demonstrate level B1 \\nEnglish if they have not been given an unconditional offer of study on the main \\ncourse of study at degree level or above, and their sponsor has not assessed them \\nas already having level B2 English.  \\n \\nThere is further guidance on how caseworkers must assess evidence that an \\napplicant meets the English language requirement at the relevant level. \\n \\nRelated content \\nContents', 'Student and Child Student — Page 82 of 107  Published for Home Office staff on 16 July 2025 \\nDifferential evidence requirement \\nThis page tells caseworkers about the Student and Child Student differential \\nevidence requirement which permit applicants from listed countries to submit fewer \\nsupporting documents with their application. \\n \\nRequirements for nationals who benefit from differential \\nevidence \\nTo qualify for differential evidence arrangements, the applicant must: \\n \\n• be sponsored by a licensed Student sponsor  \\n• be applying for entry clearance in the country or territory where they are living \\nor applying for further permission within the UK \\n• be a national (or citizen) of a country or territory listed in Appendix Student ST \\n22 of the Immigration Rules (the list is also duplicated in Appendix Child \\nStudent CS 13) \\n \\nDocuments not required under the differentiation \\narrangements \\nApplicants who meet the requirements of differentiation will not normally have to \\nsubmit: \\n \\n• documents used by the student sponsor to assess academic ability \\n• when applying in the UK, evidence that they have completed their previous \\ncourse (this will be noted on the Confirmation of Acceptance for Studies (CAS) \\n• English language tests or documents used by the licensed Student sponsor to \\nassess English language ability \\n• documentary evidence of their funds \\n  \\nMandatory documents \\nUnder the differentiation arrangements, all Student and Child Student applicants \\nmust still submit the following with their application: \\n \\n• their passport or other travel document proving identity and nationality \\n• biometric residence permit (if applicable) \\n• CAS reference number \\n \\nStudent and Child Student applicants must provide an Academic Technology \\nApproval Scheme (ATAS) clearance certificate, if required. \\n \\nStudent and Child Student applicants must also provide a valid Tuberculosis \\nscreening certificate, if required.', 'Student and Child Student — Page 31 of 107  Published for Home Office staff on 16 July 2025 \\nType of sponsor \\nAcceptable courses (leading to an approved \\nqualification for Home Office purposes) \\n• a short-term study abroad programme in the UK as \\npart of the applicant’s qualification at an overseas \\nhigher education institution (HEI), as long as the \\nqualification is confirmed as being of equivalent level \\nto a UK degree by Ecctis (formerly UK NARIC) \\n• an English language course at level B2 or above of \\nthe Common European Framework of Reference for \\nlanguages (CEFR)  \\n• an aviation licence, rating or certificate issued by \\nthe UK’s Civil Aviation Authority \\n \\n \\nThe caseworker must check with the Ofqual register or the Scottish Qualifications \\nAuthority (SQA) to confirm that a course is approved or accredited. \\n \\nChild Student: acceptable levels of study \\nA Child Student can do a course that is either: \\n \\n• taught in accordance with the national curriculum \\n• taught in accordance with the Regulated Qualifications Framework (RQF) and \\nmust not be a foundation course intended to prepare the applicant for entry to a \\nhigher education provider \\n• accepted as being the same academic level as the national curriculum or the \\nRQF by: \\no Ofsted (England) \\no the Education and Training Inspectorate (Northern Ireland)  \\no Education Scotland  \\no Estyn (Wales) \\n• taught in line with existing (also known as prevailing) independent school \\neducation inspection standards \\n \\nA Child Student can also do a pre-sessional course to prepare them for their main \\ncourse of study by giving them the skills or knowledge necessary to adjust to study in \\nthe UK, the main course of study must meet the conditions above. \\n \\nA Child Student cannot take an English language course if they are under 16 years \\nof age.  \\n \\nA Child Student cannot do a foundation course. A foundation course is a course at \\nRQF level 3 or 4 which prepares students for undergraduate study. It includes \\nundergraduate foundation programmes, university foundation courses, international \\nfoundation year courses, and international year one courses (and equivalents).  \\n \\nRelated content \\nContents', 'Student and Child Student — Page 71 of 107  Published for Home Office staff on 16 July 2025 \\nTranslating documents \\nThis page tells caseworkers when they can accept translated documents for Student \\nand Child Student applications.  \\n \\nIf a document is not in English or Welsh, the applicant must provide a fully certified \\ntranslation from a professional translator or translation company that can be \\nindependently verified by the Home Office. The translation must include all of the \\nfollowing information: \\n \\n• confirmation that it is an accurate translation of the document \\n• the date of translation \\n• the full name and signature of the translator or an official from the translation \\ncompany \\n• the translator or translation company’s contact details \\n \\nAssessing the academic level of a translated certificate \\nIf a translation of an overseas qualification or certificate is submitted, the caseworker \\nmust not take it as a direct translation of the academic level of the award. The \\ncaseworker must use the Ecctis (formerly UK NARIC) website to assess the level of \\noverseas qualifications or ask the sponsor to provide evidence of its level from Ecctis \\n(formerly UK NARIC) if this has not been included with the application. \\n \\nRelated content \\nContents', \"Student and Child Student — Page 67 of 107  Published for Home Office staff on 16 July 2025 \\nDocuments for assessing Confirmation \\nof Acceptance for Studies (CAS) \\nThis page tells caseworkers which documents an applicant must provide to show \\nhow they were assessed by the sponsor to be issued a CAS. If documents are not in \\nEnglish, the applicant must provide a certified translation of the documents. \\n \\nSomeone applying to study a course at degree level or above at a higher education \\nprovider (HEP) does not need to provide evidence of qualifications used to obtain the \\noffer. The HEP is able to assess the academic ability of a prospective student at \\ndegree level or above. They must state on the CAS what documents were used to \\nobtain the offer and the caseworker does not need to see evidence of the previous \\nqualifications.  \\n \\nStudents and Child Students who are applying under the differentiation \\narrangements do not need to supply evidence of previous qualifications. The \\ncaseworker may still request these documents if necessary.  \\n \\nChild Student applicants under the age of 16 \\nApplicants under the age of 16 applying under the Child Student route do not need to \\nprovide documents to show how their academic ability was assessed. \\n \\nChild Student applicants aged 16 or 17 and Student \\napplicants \\nApplicants aged 16 or 17 applying under the Child Student route, or the Student \\nroute, must provide the documents they used to be awarded their CAS unless they \\nare applying under the differentiation arrangements, or if the assessment was not \\nbased on qualifications or references. The documents they must submit must be one \\nof the following: \\n \\n• the certificate or certificates of qualification \\n• the transcript of results \\n• the print out of qualification or transcript results from the awarding body’s online \\nchecking service \\n \\nIf the applicant does not provide these documents, the caseworker must request \\nthem. \\n \\nEvidential documents used \\nEach document provided must include:  \\n \\n• the applicant's name \\n• the title of the award \\n• the name of the awarding institution or awarding body\"]\n"
     ]
    }
   ],
   "source": [
    "chunks_path = r\"E:\\Info_Srping\\swiftvisa\\index\\chunks_with_embeddings.jsonl\"\n",
    "model, index, chunks = build_faiss_index(chunks_path)\n",
    "\n",
    "query = \"I am from Canada and applying for a UK Student Visa. Do I need to prove my English language ability?\"\n",
    "answer, citations = generate_answer(query, model, index, chunks, top_k=5)\n",
    "\n",
    "print(\"\\nFinal Answer:\\n\", answer)\n",
    "print(\"\\nCitations:\\n\", citations)"
   ]
  }
 ],
 "metadata": {
  "kernelspec": {
   "display_name": "Python [conda env:base] *",
   "language": "python",
   "name": "conda-base-py"
  },
  "language_info": {
   "codemirror_mode": {
    "name": "ipython",
    "version": 3
   },
   "file_extension": ".py",
   "mimetype": "text/x-python",
   "name": "python",
   "nbconvert_exporter": "python",
   "pygments_lexer": "ipython3",
   "version": "3.13.5"
  }
 },
 "nbformat": 4,
 "nbformat_minor": 5
}
