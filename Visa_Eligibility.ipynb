{
 "cells": [
  {
   "cell_type": "code",
   "execution_count": 42,
   "id": "9a686609-eaf0-4607-b254-3785bae3b190",
   "metadata": {},
   "outputs": [],
   "source": [
    "import re\n",
    "import unicodedata\n",
    "from sentence_transformers import SentenceTransformer\n",
    "import json\n",
    "from pathlib import Path\n",
    "import numpy as np\n",
    "import faiss\n",
    "from transformers import pipeline"
   ]
  },
  {
   "cell_type": "code",
   "execution_count": 43,
   "id": "da89234e-e9de-4b1c-ba17-05b3dd80c569",
   "metadata": {},
   "outputs": [],
   "source": [
    "def normalize_slug(s: str, repl=\"-\"):\n",
    "    if s is None:\n",
    "        return \"\"\n",
    "    s = unicodedata.normalize(\"NFKC\", s).lower()\n",
    "    # Replace any character not alnum with hyphen\n",
    "    s = re.sub(r\"[^a-z0-9]+\", repl, s)\n",
    "    # Collapse multiple hyphens\n",
    "    s = re.sub(rf\"{repl}{{2,}}\", repl, s)\n",
    "    # Trim leading/trailing hyphens\n",
    "    s = s.strip(repl)\n",
    "    return s or \"na\""
   ]
  },
  {
   "cell_type": "code",
   "execution_count": 44,
   "id": "1d260f3d-f810-4650-bd0f-982e7c19ad33",
   "metadata": {},
   "outputs": [],
   "source": [
    "from transformers import AutoTokenizer\n",
    "\n",
    "# MiniLM compatible tokenizer\n",
    "tok = AutoTokenizer.from_pretrained(\"sentence-transformers/all-MiniLM-L6-v2\")\n",
    "\n",
    "def chunk_by_tokens(text: str, max_tokens=384, overlap=64):\n",
    "    ids = tok.encode(text, add_special_tokens=False)\n",
    "    n = len(ids)\n",
    "    start = 0\n",
    "    while start < n:\n",
    "        end = min(start + max_tokens, n)\n",
    "        chunk_ids = ids[start:end]\n",
    "        chunk_text = tok.decode(chunk_ids, skip_special_tokens=True)\n",
    "        # Find the character start/end by re-encoding chunk_text if needed\n",
    "        yield start, end, chunk_text\n",
    "        if end == n:\n",
    "            break\n",
    "        start = max(end - overlap, 0)"
   ]
  },
  {
   "cell_type": "code",
   "execution_count": 45,
   "id": "572aa91f-1e07-4f42-b65d-a9f2f553200d",
   "metadata": {},
   "outputs": [],
   "source": [
    "def pdf_to_chunks_tokenwise(pdf_path, meta, out_path, max_tokens=256, overlap=32):\n",
    "    import fitz, time, json, hashlib\n",
    "    from pathlib import Path\n",
    "\n",
    "    pdf_path = Path(pdf_path)\n",
    "    if not pdf_path.exists():\n",
    "        raise FileNotFoundError(f\"PDF file not found: {pdf_path}\")\n",
    "\n",
    "    # SHA256\n",
    "    h = hashlib.sha256()\n",
    "    with open(pdf_path, \"rb\") as f:\n",
    "        for b in iter(lambda: f.read(1 << 20), b\"\"):\n",
    "            h.update(b)\n",
    "    docsha = h.hexdigest()\n",
    "    meta[\"docsha256\"] = docsha\n",
    "\n",
    "    doc = fitz.open(str(pdf_path))\n",
    "    all_chunks = []\n",
    "    seq = 1\n",
    "\n",
    "    country_slug = normalize_slug(meta[\"country\"])\n",
    "    visa_slug = normalize_slug(meta[\"visa_type\"])\n",
    "    year_slug = normalize_slug(str(meta[\"year\"]))\n",
    "    doc_slug = normalize_slug(meta[\"doc_slug\"])\n",
    "\n",
    "    for pagenum in range(len(doc)):\n",
    "        page = doc[pagenum]\n",
    "        text = page.get_text(\"text\")\n",
    "        # Normalize whitespace/control chars to spaces first\n",
    "        text = unicodedata.normalize(\"NFKC\", text)\n",
    "        text = re.sub(r\"\\s+\", \" \", text).strip()\n",
    "\n",
    "        for tstart, tend, ctext in chunk_by_tokens(text, max_tokens, overlap):\n",
    "            docid = f\"{country_slug}-{visa_slug}-{year_slug}-{doc_slug}\"\n",
    "            chunkid = f\"{docid}-Pg{pagenum+1}-seq{seq:03d}\"\n",
    "            chunkmeta = {\n",
    "                \"chunkid\": chunkid,\n",
    "                \"docid\": docid,\n",
    "                \"source\": meta.get(\"source\"),\n",
    "                \"url\": meta.get(\"url\"),\n",
    "                \"country\": meta.get(\"country\"),\n",
    "                \"visa_type\": meta.get(\"visatype\"),\n",
    "                \"effectivedate\": meta.get(\"effectivedate\"),\n",
    "                \"version\": meta.get(\"version\"),\n",
    "                \"docsha256\": docsha,\n",
    "                \"retrievedat\": time.strftime(\"%Y-%m-%dT%H:%M:%SZ\", time.gmtime()),\n",
    "                \"page\": pagenum + 1,\n",
    "                \"pages\": pagenum + 1,\n",
    "                \"sectiontitle\": None,\n",
    "                \"language\": \"en\",\n",
    "                \"token_start\": int(tstart),\n",
    "                \"token_end\": int(tend),\n",
    "                \"text\": ctext,\n",
    "            }\n",
    "            all_chunks.append(chunkmeta)\n",
    "            seq += 1\n",
    "\n",
    "    out_path = Path(out_path)\n",
    "    out_path.parent.mkdir(parents=True, exist_ok=True)\n",
    "    with open(out_path, \"w\", encoding=\"utf-8\") as f:\n",
    "        for ch in all_chunks:\n",
    "            f.write(json.dumps(ch, ensure_ascii=False) + \"\\n\")\n",
    "    print(f\"Saved {len(all_chunks)} chunks to {out_path}\")"
   ]
  },
  {
   "cell_type": "code",
   "execution_count": 46,
   "id": "b34642a0-ba67-46cc-a4ab-3af6842ae0bb",
   "metadata": {},
   "outputs": [
    {
     "name": "stderr",
     "output_type": "stream",
     "text": [
      "Token indices sequence length is longer than the specified maximum sequence length for this model (3268 > 512). Running this sequence through the model will result in indexing errors\n"
     ]
    },
    {
     "name": "stdout",
     "output_type": "stream",
     "text": [
      "Saved 181 chunks to C:\\Users\\suyes\\Documents\\UK_Student_Visa_chunks.jsonl\n"
     ]
    }
   ],
   "source": [
    "if __name__ == \"__main__\":\n",
    "    pdf_file = r\"C:\\Users\\suyes\\Documents\\UK_Student_Visa.pdf\"\n",
    "    output_file = r\"C:\\Users\\suyes\\Documents\\UK_Student_Visa_chunks.jsonl\"\n",
    "\n",
    "    meta_info = {\n",
    "        \"country\": \"UK\",\n",
    "        \"visa_type\": \"Student and Child Student\",\n",
    "        \"year\": \"2025\",\n",
    "        \"doc_slug\": \"UK Student Visa Guide 2024\",\n",
    "        \"source\": \"Student and Child Student\",\n",
    "        \"url\": \"https://gov.uk/student-visa\",\n",
    "        \"effective_date\": \"2025-07-16\",\n",
    "        \"version\": \"11.0\"\n",
    "    }\n",
    "\n",
    "    pdf_to_chunks_tokenwise(pdf_file, meta_info, output_file)\n"
   ]
  },
  {
   "cell_type": "code",
   "execution_count": 50,
   "id": "af0e7ab6-3ecc-4c88-bcf1-22560d04d9e1",
   "metadata": {},
   "outputs": [
    {
     "name": "stdout",
     "output_type": "stream",
     "text": [
      "Loaded 181 chunks.\n"
     ]
    }
   ],
   "source": [
    "jsonl_path = r\"C:\\Users\\suyes\\Documents\\UK_Student_Visa_chunks.jsonl\"\n",
    "\n",
    "chunks = []\n",
    "\n",
    "with open(jsonl_path, \"r\", encoding=\"utf-8\") as f:\n",
    "    for line in f:\n",
    "        chunks.append(json.loads(line))\n",
    "\n",
    "print(f\"Loaded {len(chunks)} chunks.\")\n"
   ]
  },
  {
   "cell_type": "code",
   "execution_count": 51,
   "id": "8575ca2c-d24a-4e46-9167-36a0a81c0c4b",
   "metadata": {},
   "outputs": [],
   "source": [
    "# Initialize the embedding model\n",
    "model = SentenceTransformer('sentence-transformers/all-MiniLM-L6-v2')"
   ]
  },
  {
   "cell_type": "code",
   "execution_count": 52,
   "id": "c6281f04-9d35-4fe5-8010-4fe1e3ee0e3d",
   "metadata": {},
   "outputs": [
    {
     "name": "stdout",
     "output_type": "stream",
     "text": [
      "Embeddings created and saved successfully!\n"
     ]
    }
   ],
   "source": [
    "# Generate embeddings\n",
    "for chunk in chunks:\n",
    "    chunk['embedding'] = model.encode(chunk['text']).tolist()  # convert to list for JSON\n",
    "\n",
    "# Save the chunks with embeddings\n",
    "with open( r\"C:\\Users\\suyes\\Documents\\chunks_with_embeddings.jsonl\", \"w\", encoding=\"utf-8\") as f:\n",
    "    for chunk in chunks:\n",
    "        f.write(json.dumps(chunk) + \"\\n\")\n",
    "\n",
    "print(\"Embeddings created and saved successfully!\")"
   ]
  },
  {
   "cell_type": "code",
   "execution_count": 53,
   "id": "22e9d4c7-f817-4339-91a2-f30c1f7b5f46",
   "metadata": {},
   "outputs": [],
   "source": [
    "# 1. Build FAISS index with cosine behavior\n",
    "def build_faiss_index(chunks_path):\n",
    "    # Load model and chunks\n",
    "    model = SentenceTransformer(\"sentence-transformers/all-MiniLM-L6-v2\")\n",
    "    chunks = []\n",
    "    with open(chunks_path, \"r\", encoding=\"utf-8\") as f:\n",
    "        for line in f:\n",
    "            chunks.append(json.loads(line))\n",
    "\n",
    "    # Collect embeddings and normalize to unit length\n",
    "    embeddings = np.array([chunk[\"embedding\"] for chunk in chunks], dtype=\"float32\")\n",
    "    faiss.normalize_L2(embeddings)  # in-place normalization to unit norm\n",
    "\n",
    "    # Use inner product index (dot product == cosine on unit vectors)\n",
    "    d = embeddings.shape[1]\n",
    "    index = faiss.IndexFlatIP(d)\n",
    "    index.add(embeddings)\n",
    "    return model, index, chunks\n"
   ]
  },
  {
   "cell_type": "code",
   "execution_count": 54,
   "id": "28fef2ab-a683-4c96-b905-476158bb1120",
   "metadata": {},
   "outputs": [],
   "source": [
    "# 2. Retrieval with normalized query\n",
    "def retrieve_chunks(query, model, index, chunks, top_k=5, min_score=0.3):\n",
    "    \"\"\"\n",
    "    Retrieve top chunks for a query from FAISS index.\n",
    "    Only return chunks with similarity >= min_score.\n",
    "    \"\"\"\n",
    "    # Encode query\n",
    "    q_emb = model.encode(query, convert_to_numpy=True, normalize_embeddings=True).astype(\"float32\")\n",
    "    faiss.normalize_L2(q_emb.reshape(1, -1))\n",
    "    \n",
    "    # Search\n",
    "    D, I = index.search(q_emb.reshape(1, -1), top_k)\n",
    "    \n",
    "    results = []\n",
    "    for score, idx in zip(D[0], I[0]):\n",
    "        if score >= min_score:\n",
    "            results.append(chunks[idx])\n",
    "    return results\n"
   ]
  },
  {
   "cell_type": "code",
   "execution_count": 55,
   "id": "3808f966-1cca-435f-8208-03746ddd6892",
   "metadata": {},
   "outputs": [
    {
     "name": "stderr",
     "output_type": "stream",
     "text": [
      "Device set to use cpu\n"
     ]
    }
   ],
   "source": [
    "# 3. Load generator model\n",
    "generator = pipeline(\n",
    "    \"text2text-generation\",\n",
    "    model=\"google/flan-t5-base\",\n",
    "    tokenizer=\"google/flan-t5-base\",\n",
    "    device=-1  # CPU; use 0 for GPU\n",
    ")\n"
   ]
  },
  {
   "cell_type": "code",
   "execution_count": 56,
   "id": "b25094ef-f2e3-4f6a-8600-2ae1dab75bba",
   "metadata": {},
   "outputs": [],
   "source": [
    "# 4. Answer generation\n",
    "def generate_answer(query, model, index, chunks, top_k=5, generator=None, min_score=0.3):\n",
    "    \"\"\"\n",
    "    Generate an answer for the query using retrieved chunks.\n",
    "    - Uses generator if provided.\n",
    "    - Falls back to concatenated chunks if generator is None.\n",
    "    - Returns \"No relevant information\" if nothing passes similarity threshold.\n",
    "    \"\"\"\n",
    "    # Step 1: Retrieve top chunks with threshold\n",
    "    retrieved = retrieve_chunks(query, model, index, chunks, top_k=top_k, min_score=min_score)\n",
    "    if not retrieved:\n",
    "        return \"No relevant information found.\", []\n",
    "\n",
    "    # Step 2: Prepare context and citations\n",
    "    context = \"\\n\\n\".join([f\"Source: {r.get('source', 'Unknown')}\\n{r['text']}\" for r in retrieved])\n",
    "    citations = [f\"{r.get('source', 'Unknown')} — {r['text']}\" for r in retrieved]\n",
    "\n",
    "    # Step 3: Use generator if available\n",
    "    if generator is not None:\n",
    "        prompt = f\"\"\"\n",
    "        You are an expert eligibility officer.\n",
    "        Using only the context below, answer the question truthfully.\n",
    "        If the answer is not in the context, say \"I cannot find relevant information.\"\n",
    "\n",
    "        Context:\n",
    "        {context}\n",
    "\n",
    "        Question: {query}\n",
    "        Answer:\n",
    "        \"\"\"\n",
    "        output = generator(prompt, max_new_tokens=200)\n",
    "        return output[0][\"generated_text\"].strip(), citations\n",
    "\n",
    "    # Step 4: Fallback → concatenated chunks\n",
    "    answer = f\"Here is what I found based on the documents:\\n\\n{context}\"\n",
    "    return answer, citations\n"
   ]
  },
  {
   "cell_type": "code",
   "execution_count": 57,
   "id": "6d8ff596-8c0e-47bf-b576-6528e282d6fe",
   "metadata": {},
   "outputs": [
    {
     "name": "stdout",
     "output_type": "stream",
     "text": [
      "\n",
      "Final Answer:\n",
      " Here is what I found based on the documents:\n",
      "\n",
      "Source: Student and Child Student\n",
      "page 47 of 75 published for home office staff on 22 july 2025 option new entrant criteria information required from sponsor the sponsor must confirm which recognised professional qualification the applicant is working towards – this must be a uk qualification accepted by the regulatory body for the profession. 4. applicant is working towards full registration or chartered status with the relevant professional body for the job they are sponsored for. the sponsor must confirm who the relevant professional body is and the applicant is working towards full registration or chartered status. if necessary, you can check the list of chartered bodies from the privy council. 5. applicant ’ s most recent permission, other than as a visitor, was under tier 4 ( general ) or the student route. the permission must either be current or have expired less than 2 years before the date of application. in that permission ( or previous ) permission, the applicant must have been sponsored to study one of the following courses ( not any other qualifications of an equivalent level ) : • a uk bachelor ’ s degree • a uk master ’ s degree • a uk phd or other doctoral qualification • a postgraduate certificate in education • a professional graduate diploma of education the applicant must have completed ( or be applying no more than 3 months before they are expected to complete ) the course. an exception applies\n",
      "\n",
      "Source: Student and Child Student\n",
      "requirements applicants must meet are split into 3 parts : 1. validity requirements – these outline the minimum criteria which must be met for the application to be considered fully. they ensure, for example, the applicant has used the correct form and supplied their identity documents. applications which do not meet these requirements are invalid and may be rejected. 2. suitability requirements – these check the suitability of the applicant to be granted any form of permission, not specifically whether they qualify as a skilled worker. applicants must not fall for refusal on general grounds or be in breach of immigration laws. applications which do not meet these requirements must be refused. 3. eligibility requirements – these are the main criteria specific to the skilled worker route. applications which do not meet these requirements must be refused. the table below sets out the paragraphs in appendix skilled worker for each of these requirements : application validity suitability eligibility main applicants – entry clearance and permission to stay sw 1. 1. to sw 1. 6. sw 2. 1. to sw 2. 2. sw 3. 1. to sw 16. 2. main applicants – settlement sw 19. 1. to sw 19. 4. sw 20. 1. to sw 20. 2. sw 21. 1. to sw 24. 4.\n",
      "\n",
      "Source: Student and Child Student\n",
      "page 50 of 75 published for home office staff on 22 july 2025 financial requirement this section explains how to assess the financial requirement ( previously known as maintenance ) for skilled workers. an applicant will automatically meet the financial requirement when they are applying for permission to stay in the uk, having been in the uk for at least 12 months with permission on the date of application. see the financial requirement guidance for details on how to consider this. when the above does not apply, an applicant can meet the financial requirement by either : • their sponsor ( providing they are a - rated ) certifying they will, if necessary, maintain and accommodate the applicant up to the end of the first month of their employment, to an amount of at least £1, 270 • providing evidence showing they have held funds of at least £1, 270 for a 28 - day period as set out in the financial requirement guidance ( this has reduced from the 90 - day requirement which existed for tier 2 applications ) related content contents\n",
      "\n",
      "Source: Student and Child Student\n",
      "professional graduate diploma of education the applicant must have completed ( or be applying no more than 3 months before they are expected to complete ) the course. an exception applies to phds and other doctoral qualifications, where the applicant must have completed at least 12 months ’ study in the uk towards the qualification. confirmation ( from the applicant or their sponsor ) the applicant has completed ( or the date they are expected to complete ) their course, or they have completed at least 12 months ’ study in the uk towards a phd or other doctoral qualification. check the applicant ’ s immigration history for other information.\n",
      "\n",
      "Source: Student and Child Student\n",
      "page 13 of 75 published for home office staff on 22 july 2025 from 22 july 2025 entry clearance applications or applications to switch into the skilled worker route are limited to : • rqf level 6 occupations listed in table 1 of appendix skilled occupations ; or • those jobs listed on the temporary shortage list from immigration rule sw 6. 1b ; or • jobs on the immigration salary list in appendix immigration salary list an applicant who is applying for permission to stay and has, or last had, permission as a student must meet one of the following conditions : • they must have completed the course of study for which the confirmation of acceptance for studies was assigned – this means they must have studied to the end of the course, although they do not need to have passed it • they must have completed a course to which paragraph st 27. 3 of appendix student applies – this means they may have changed to a different course, which must be at the same level or above as the course on their cas, unless it is the lower level of an integrated master ’ s or phd programme • they must be studying a course which will have finished before the start date on their cos • if their course is leading to a phd award, they must have completed at least 24 months of that course you can normally\n",
      "\n",
      "Citations:\n",
      " ['Student and Child Student — page 47 of 75 published for home office staff on 22 july 2025 option new entrant criteria information required from sponsor the sponsor must confirm which recognised professional qualification the applicant is working towards – this must be a uk qualification accepted by the regulatory body for the profession. 4. applicant is working towards full registration or chartered status with the relevant professional body for the job they are sponsored for. the sponsor must confirm who the relevant professional body is and the applicant is working towards full registration or chartered status. if necessary, you can check the list of chartered bodies from the privy council. 5. applicant ’ s most recent permission, other than as a visitor, was under tier 4 ( general ) or the student route. the permission must either be current or have expired less than 2 years before the date of application. in that permission ( or previous ) permission, the applicant must have been sponsored to study one of the following courses ( not any other qualifications of an equivalent level ) : • a uk bachelor ’ s degree • a uk master ’ s degree • a uk phd or other doctoral qualification • a postgraduate certificate in education • a professional graduate diploma of education the applicant must have completed ( or be applying no more than 3 months before they are expected to complete ) the course. an exception applies', 'Student and Child Student — requirements applicants must meet are split into 3 parts : 1. validity requirements – these outline the minimum criteria which must be met for the application to be considered fully. they ensure, for example, the applicant has used the correct form and supplied their identity documents. applications which do not meet these requirements are invalid and may be rejected. 2. suitability requirements – these check the suitability of the applicant to be granted any form of permission, not specifically whether they qualify as a skilled worker. applicants must not fall for refusal on general grounds or be in breach of immigration laws. applications which do not meet these requirements must be refused. 3. eligibility requirements – these are the main criteria specific to the skilled worker route. applications which do not meet these requirements must be refused. the table below sets out the paragraphs in appendix skilled worker for each of these requirements : application validity suitability eligibility main applicants – entry clearance and permission to stay sw 1. 1. to sw 1. 6. sw 2. 1. to sw 2. 2. sw 3. 1. to sw 16. 2. main applicants – settlement sw 19. 1. to sw 19. 4. sw 20. 1. to sw 20. 2. sw 21. 1. to sw 24. 4.', 'Student and Child Student — page 50 of 75 published for home office staff on 22 july 2025 financial requirement this section explains how to assess the financial requirement ( previously known as maintenance ) for skilled workers. an applicant will automatically meet the financial requirement when they are applying for permission to stay in the uk, having been in the uk for at least 12 months with permission on the date of application. see the financial requirement guidance for details on how to consider this. when the above does not apply, an applicant can meet the financial requirement by either : • their sponsor ( providing they are a - rated ) certifying they will, if necessary, maintain and accommodate the applicant up to the end of the first month of their employment, to an amount of at least £1, 270 • providing evidence showing they have held funds of at least £1, 270 for a 28 - day period as set out in the financial requirement guidance ( this has reduced from the 90 - day requirement which existed for tier 2 applications ) related content contents', 'Student and Child Student — professional graduate diploma of education the applicant must have completed ( or be applying no more than 3 months before they are expected to complete ) the course. an exception applies to phds and other doctoral qualifications, where the applicant must have completed at least 12 months ’ study in the uk towards the qualification. confirmation ( from the applicant or their sponsor ) the applicant has completed ( or the date they are expected to complete ) their course, or they have completed at least 12 months ’ study in the uk towards a phd or other doctoral qualification. check the applicant ’ s immigration history for other information.', 'Student and Child Student — page 13 of 75 published for home office staff on 22 july 2025 from 22 july 2025 entry clearance applications or applications to switch into the skilled worker route are limited to : • rqf level 6 occupations listed in table 1 of appendix skilled occupations ; or • those jobs listed on the temporary shortage list from immigration rule sw 6. 1b ; or • jobs on the immigration salary list in appendix immigration salary list an applicant who is applying for permission to stay and has, or last had, permission as a student must meet one of the following conditions : • they must have completed the course of study for which the confirmation of acceptance for studies was assigned – this means they must have studied to the end of the course, although they do not need to have passed it • they must have completed a course to which paragraph st 27. 3 of appendix student applies – this means they may have changed to a different course, which must be at the same level or above as the course on their cas, unless it is the lower level of an integrated master ’ s or phd programme • they must be studying a course which will have finished before the start date on their cos • if their course is leading to a phd award, they must have completed at least 24 months of that course you can normally']\n"
     ]
    }
   ],
   "source": [
    "chunks_path = r\"C:\\Users\\suyes\\Documents\\chunks_with_embeddings.jsonl\"\n",
    "model, index, chunks = build_faiss_index(chunks_path)\n",
    "\n",
    "query = \"What are the eligibility requirements for a UK Student Visa?\"\n",
    "answer, citations = generate_answer(query, model, index, chunks, top_k=5)\n",
    "\n",
    "print(\"\\nFinal Answer:\\n\", answer)\n",
    "print(\"\\nCitations:\\n\", citations)"
   ]
  },
  {
   "cell_type": "code",
   "execution_count": null,
   "id": "a00139b0-b285-40b4-8269-16c5381a3f2f",
   "metadata": {},
   "outputs": [],
   "source": []
  }
 ],
 "metadata": {
  "kernelspec": {
   "display_name": "Python 3 (ipykernel)",
   "language": "python",
   "name": "python3"
  },
  "language_info": {
   "codemirror_mode": {
    "name": "ipython",
    "version": 3
   },
   "file_extension": ".py",
   "mimetype": "text/x-python",
   "name": "python",
   "nbconvert_exporter": "python",
   "pygments_lexer": "ipython3",
   "version": "3.13.7"
  }
 },
 "nbformat": 4,
 "nbformat_minor": 5
}
