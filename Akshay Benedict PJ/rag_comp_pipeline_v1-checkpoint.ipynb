{
 "cells": [
  {
   "cell_type": "code",
   "execution_count": 1,
   "id": "14314c55-d34d-470b-9559-c2718e4bdbaf",
   "metadata": {},
   "outputs": [
    {
     "name": "stderr",
     "output_type": "stream",
     "text": [
      "C:\\Users\\DELL\\AppData\\Local\\Programs\\Python\\Python311\\Lib\\site-packages\\torchvision\\io\\image.py:13: UserWarning: Failed to load image Python extension: '[WinError 127] The specified procedure could not be found'If you don't plan on using image functionality from `torchvision.io`, you can ignore this warning. Otherwise, there might be something wrong with your environment. Did you have `libjpeg` or `libpng` installed before building `torchvision` from source?\n",
      "  warn(\n"
     ]
    },
    {
     "name": "stdout",
     "output_type": "stream",
     "text": [
      "WARNING:tensorflow:From C:\\Users\\DELL\\AppData\\Local\\Programs\\Python\\Python311\\Lib\\site-packages\\tf_keras\\src\\losses.py:2976: The name tf.losses.sparse_softmax_cross_entropy is deprecated. Please use tf.compat.v1.losses.sparse_softmax_cross_entropy instead.\n",
      "\n"
     ]
    }
   ],
   "source": [
    "from sentence_transformers import SentenceTransformer\n",
    "import numpy as np\n",
    "import faiss\n",
    "import json\n",
    "from transformers import pipeline"
   ]
  },
  {
   "cell_type": "code",
   "execution_count": 2,
   "id": "d27b88e1-ab3d-4be1-a532-744d2ef449b8",
   "metadata": {},
   "outputs": [],
   "source": [
    "# -----------------------------\n",
    "# 1. Build FAISS Index in rag_pipeline\n",
    "# -----------------------------\n",
    "def build_faiss_index(chunks_path):\n",
    "    # Load model\n",
    "    model = SentenceTransformer('sentence-transformers/all-MiniLM-L6-v2')\n",
    "\n",
    "    # Load chunks from file\n",
    "    chunks = []\n",
    "    with open(chunks_path, \"r\", encoding=\"utf-8\") as f:\n",
    "        for line in f:\n",
    "            chunks.append(json.loads(line))\n",
    "\n",
    "    # Create FAISS index\n",
    "    embedding_dim = len(chunks[0]['embedding'])\n",
    "    index = faiss.IndexFlatL2(embedding_dim)\n",
    "    embeddings = np.array([chunk['embedding'] for chunk in chunks]).astype('float32')\n",
    "    index.add(embeddings)\n",
    "\n",
    "    return model, index, chunks\n"
   ]
  },
  {
   "cell_type": "code",
   "execution_count": 3,
   "id": "44deb829-b52f-473b-bd01-504c5a6f645c",
   "metadata": {},
   "outputs": [],
   "source": [
    "# -----------------------------\n",
    "# 2. Retrieve function\n",
    "# -----------------------------\n",
    "def retrieve_chunks(query, model, index, chunks, top_k=5):\n",
    "    query_embedding = model.encode(query).astype('float32')\n",
    "    D, I = index.search(np.array([query_embedding]), top_k)\n",
    "    results = [chunks[i] for i in I[0]]\n",
    "    return results\n"
   ]
  },
  {
   "cell_type": "code",
   "execution_count": 4,
   "id": "ec4eb0c6-415d-451a-a99b-8918a8d4391a",
   "metadata": {},
   "outputs": [
    {
     "name": "stderr",
     "output_type": "stream",
     "text": [
      "Device set to use cpu\n"
     ]
    }
   ],
   "source": [
    "# -----------------------------\n",
    "# 3. Load generator model\n",
    "# -----------------------------\n",
    "generator = pipeline(\n",
    "    \"text2text-generation\",\n",
    "    model=\"google/flan-t5-base\",\n",
    "    tokenizer=\"google/flan-t5-base\",\n",
    "    device=-1  # CPU; use 0 for GPU\n",
    ")\n"
   ]
  },
  {
   "cell_type": "code",
   "execution_count": 5,
   "id": "36505dca-873e-4041-a90b-ecc5e57af02c",
   "metadata": {},
   "outputs": [],
   "source": [
    "# -----------------------------\n",
    "# 4. Answer generation\n",
    "# -----------------------------\n",
    "def generate_answer(query, model, index, chunks, top_k=5):\n",
    "    \n",
    "    # Step 1: Retrieve\n",
    "    retrieved = retrieve_chunks(query, model, index, chunks, top_k=top_k)\n",
    "\n",
    "    # Step 2: Prepare context\n",
    "    context = \"\\n\\n\".join([f\"Source: {r.get('source', 'Unknown')}\\n{r['text']}\" for r in retrieved])\n",
    "\n",
    "    # Step 3: Build prompt\n",
    "    prompt = f\"\"\"\n",
    "    You are an expert eligibility officer.\n",
    "    Using only the context below, answer the question truthfully.\n",
    "    If the answer is not in the context, say \"I cannot find relevant information.\"\n",
    "\n",
    "    Context:\n",
    "    {context}\n",
    "\n",
    "    Question: {query}\n",
    "    Answer:\n",
    "    \"\"\"\n",
    "\n",
    "    # Step 4: Generate\n",
    "    output = generator(prompt, max_new_tokens=200)\n",
    "\n",
    "    # Step 5: Collect citations\n",
    "    #citations = list({r.get('source', 'Unknown') for r in retrieved})\n",
    "    citations = [f\"{r.get('source', 'Unknown')} — {r['text']}\" for r in retrieved]\n",
    "\n",
    "    return output[0][\"generated_text\"], citations\n",
    "\n"
   ]
  },
  {
   "cell_type": "code",
   "execution_count": 6,
   "id": "0535d827-face-4421-a204-0dd086f3554a",
   "metadata": {},
   "outputs": [
    {
     "name": "stderr",
     "output_type": "stream",
     "text": [
      "Token indices sequence length is longer than the specified maximum sequence length for this model (1561 > 512). Running this sequence through the model will result in indexing errors\n"
     ]
    },
    {
     "name": "stdout",
     "output_type": "stream",
     "text": [
      "\n",
      "Final Answer:\n",
      " Yes\n",
      "\n",
      "Citations:\n",
      " ['Student and Child Student — page 94 of 107 published for home office staff on 16 july 2025 work conditions this page tells caseworkers what employment a student or child student can undertake in the uk. employment conditions are dependent on the type of sponsor the applicant will be studying at and the level of course they are studying, information on the amount of hours a student can work and the type of employment that is permitted can be found in appendix student st 26. periods of permission after a student has completed their course are considered to be outside of term - time for the purposes of any work conditions. type of sponsor course type level work permitted if study is at : • a higher education provider ( hep ) with a track record of compliance • overseas higher education institution and the student is on a short - term study - abroad programme in the uk full - time course at degree level or above then the following work is permitted : • part - time during term - time ( up to a maximum of 20 hours a week ) • full - time during vacations, including the period before the course starts • on a work placement as part of the course • as a student union sabbatical officer for up to 2 years when permission has been granted for this purpose if study is at a higher education provider ( hep )', 'Student and Child Student — page 99 of 107 published for home office staff on 16 july 2025 when student dependants are permitted the rules for the student course requirement that set out when a student is permitted to have dependants can be found at appendix student st 31. 1 and 31. 2. the following people are eligible for permission as a dependant of a person who has been granted permission as a student, or who will be applying at the same time : • spouses • civil partners • unmarried partners • dependent children of either a student or their partner under the age of 18 the following students are allowed to have dependants with them in the uk : • students who have a scholarship or sponsorship from a government to study a full - time course lasting 6 months or longer • students studying above degree level at a higher education provider with a track record of compliance on a course lasting 9 months or longer and, if the course start date is on or after 1 january 2024, the provider has confirmed the course is a phd or other doctoral qualification, or a research - based higher degree • students who have permission, or had permission within the last 3 months to study on a full - time course of 6 months or longer, and who are now applying for permission to study a full - time course of 6 months', 'Student and Child Student — page 9 of 107 published for home office staff on 16 july 2025 validity for entry clearance and permission to stay applications this page tells caseworkers where to find the validity requirements that an applicant must meet when they apply for entry clearance or permission to stay as a student, a child student or a dependant of a student. before considering any application, the caseworker must check the application is valid by referring to : • the validity requirements for the student route, contained in appendix student st 1. 1 to 1. 5 • the validity requirements for the child student route, contained in appendix child student cs 1. 1 to 1. 5 • the validity requirements for dependants of a student, contained in appendix student st 28. 1 to 28. 4 detailed guidance on how to assess the validity requirements can be found in the validation, variation, voiding and withdrawing of applications guidance. the caseworker must conduct verification checks if they have any doubts about whether the supporting documents an applicant has submitted are genuine. if an applicant has previously had official financial sponsorship from a government or international sponsorship agency, covering both course fees and living costs, it is a validation requirement that they must obtain consent from the financial sponsor to a further application for permission to study in the uk as a student being', \"Student and Child Student — page 24 of 107 published for home office staff on 16 july 2025 licensed student sponsors this page tells caseworkers about licensed student sponsors for applicants on the student and child student routes. all educational establishments that wish to sponsor international students must have a student sponsor licence. to check that a sponsor still has a student sponsor licence, see the student sponsor register. the type of institution, and the status of the institution ’ s licence, can affect an application under the student route or child student route and the permission that is granted. zero confirmation of acceptance for studies ( cas ) allocated sponsors a sponsor that holds student sponsor status but does not apply in time or does not pass an educational oversight inspection, or a statutory education inspection, will have its cas allocation set to zero and therefore cannot sponsor any further students until it regains educational oversight and is given a new cas allocation. student sponsorship duties student sponsors have a range of sponsorship duties which they must fulfil ; these include record keeping and reporting duties. for example, a student sponsor must keep a copy of the student ' s : • passport • biometric residence permit ( brp ) or digital status • uk immigration status document ( the student must keep the original ) • contact details further details of the record - keeping duties of a sponsor\", 'Student and Child Student — page 30 of 107 published for home office staff on 16 july 2025 acceptable levels of study this page tells caseworkers what level and type of course meets the requirements for an application for permission to study under the student and child student routes. student : acceptable levels of study unless the course is a pre - sessional course, the course must meet one of the following requirements if the confirmation of acceptance for studies has been assigned by sponsor type noted within the table below : type of sponsor acceptable courses ( leading to an approved qualification for home office purposes ) student sponsor the following courses are acceptable at this sponsor type : • full - time courses at level 3 or above on the regulated qualifications framework ( rqf ) in england, wales and northern ireland • part - time courses at level 7 or above on the rqf in england, wales and northern ireland • full - time courses at level 6 or above on the scottish credit and qualifications framework ( scqf ) • part - time courses at level 11 or above on the scqf • a short - term study abroad programme in the uk as part of the applicant ’ s qualification at an overseas higher education institution ( hei ), so long as the qualification is confirmed as being of equivalent level to a uk degree by ecctis (']\n"
     ]
    }
   ],
   "source": [
    "# -----------------------------\n",
    "# 5. Run everything\n",
    "# -----------------------------\n",
    "chunks_path = r\"E:\\Info_Srping\\swiftvisa\\index\\chunks_with_embeddings_new.jsonl\"\n",
    "model, index, chunks = build_faiss_index(chunks_path)\n",
    "\n",
    "query = \"Is the student eligible for UK Student Visa?\"\n",
    "answer, citations = generate_answer(query, model, index, chunks, top_k=5)\n",
    "\n",
    "print(\"\\nFinal Answer:\\n\", answer)\n",
    "print(\"\\nCitations:\\n\", citations)"
   ]
  },
  {
   "cell_type": "code",
   "execution_count": 7,
   "id": "f1992835-aa33-42dc-81e1-35ecd950d2a8",
   "metadata": {},
   "outputs": [
    {
     "name": "stdout",
     "output_type": "stream",
     "text": [
      "\n",
      "Final Answer:\n",
      " I cannot find relevant information.\n",
      "\n",
      "Citations:\n",
      " ['Student and Child Student — page 9 of 107 published for home office staff on 16 july 2025 validity for entry clearance and permission to stay applications this page tells caseworkers where to find the validity requirements that an applicant must meet when they apply for entry clearance or permission to stay as a student, a child student or a dependant of a student. before considering any application, the caseworker must check the application is valid by referring to : • the validity requirements for the student route, contained in appendix student st 1. 1 to 1. 5 • the validity requirements for the child student route, contained in appendix child student cs 1. 1 to 1. 5 • the validity requirements for dependants of a student, contained in appendix student st 28. 1 to 28. 4 detailed guidance on how to assess the validity requirements can be found in the validation, variation, voiding and withdrawing of applications guidance. the caseworker must conduct verification checks if they have any doubts about whether the supporting documents an applicant has submitted are genuine. if an applicant has previously had official financial sponsorship from a government or international sponsorship agency, covering both course fees and living costs, it is a validation requirement that they must obtain consent from the financial sponsor to a further application for permission to study in the uk as a student being', 'Student and Child Student — page 30 of 107 published for home office staff on 16 july 2025 acceptable levels of study this page tells caseworkers what level and type of course meets the requirements for an application for permission to study under the student and child student routes. student : acceptable levels of study unless the course is a pre - sessional course, the course must meet one of the following requirements if the confirmation of acceptance for studies has been assigned by sponsor type noted within the table below : type of sponsor acceptable courses ( leading to an approved qualification for home office purposes ) student sponsor the following courses are acceptable at this sponsor type : • full - time courses at level 3 or above on the regulated qualifications framework ( rqf ) in england, wales and northern ireland • part - time courses at level 7 or above on the rqf in england, wales and northern ireland • full - time courses at level 6 or above on the scottish credit and qualifications framework ( scqf ) • part - time courses at level 11 or above on the scqf • a short - term study abroad programme in the uk as part of the applicant ’ s qualification at an overseas higher education institution ( hei ), so long as the qualification is confirmed as being of equivalent level to a uk degree by ecctis (', 'Student and Child Student — page 39 of 107 published for home office staff on 16 july 2025 student : financial requirement this page tells caseworkers about the financial requirement that an applicant under the student route must meet. to score 10 points for meeting the financial requirement, the applicant must show that they have sufficient funds to pay outstanding course fees for the first academic year and can demonstrate funds to cover their living costs for up to 9 months. information on how evidence of funds can be demonstrated can be found in appendix finance and the level of funds which an applicant must demonstrate can be found in appendix student st 12. the following applicants will automatically meet the financial requirement and be awarded 10 points : • where they are applying for permission to stay in the uk, having been in the uk for at least 12 months with valid permission on the date of application • where they are applying for permission as a student union sabbatical officer the applicant must show that they have held the required level of funds for a consecutive 28 day period, unless they are relying on a student loan, an award from a government or international sponsorship agency, or where they are receiving some portion of the funds or other financial sponsorship from their student sponsor ( as a bursary, for example ). the 28 day period must end no more than 31 days', 'Student and Child Student — living costs, it is a validation requirement that they must obtain consent from the financial sponsor to a further application for permission to study in the uk as a student being made within 12 months of completing that course, or within 12 months of the award of that scholarship if the application is under child student. if it is unclear whether a scholarship meets the threshold for requiring consent for future extensions of permission the caseworker may wish to review conditions of the sponsorship / scholarship. representatives if an applicant has a uk based representative, the caseworker must check that the representative is approved to provide immigration advice with either : • the immigration advice authority • one of the following designated authorities : o the law society o the law society of scotland o the law society of northern ireland • the general council of the bar', 'Student and Child Student — page 99 of 107 published for home office staff on 16 july 2025 when student dependants are permitted the rules for the student course requirement that set out when a student is permitted to have dependants can be found at appendix student st 31. 1 and 31. 2. the following people are eligible for permission as a dependant of a person who has been granted permission as a student, or who will be applying at the same time : • spouses • civil partners • unmarried partners • dependent children of either a student or their partner under the age of 18 the following students are allowed to have dependants with them in the uk : • students who have a scholarship or sponsorship from a government to study a full - time course lasting 6 months or longer • students studying above degree level at a higher education provider with a track record of compliance on a course lasting 9 months or longer and, if the course start date is on or after 1 january 2024, the provider has confirmed the course is a phd or other doctoral qualification, or a research - based higher degree • students who have permission, or had permission within the last 3 months to study on a full - time course of 6 months or longer, and who are now applying for permission to study a full - time course of 6 months']\n"
     ]
    }
   ],
   "source": [
    "chunks_path = r\"E:\\Info_Srping\\swiftvisa\\index\\chunks_with_embeddings_new.jsonl\"\n",
    "model, index, chunks = build_faiss_index(chunks_path)\n",
    "\n",
    "query = \"What are the eligibility requirements for a UK Student Visa?\"\n",
    "answer, citations = generate_answer(query, model, index, chunks, top_k=5)\n",
    "\n",
    "print(\"\\nFinal Answer:\\n\", answer)\n",
    "print(\"\\nCitations:\\n\", citations)"
   ]
  },
  {
   "cell_type": "code",
   "execution_count": 8,
   "id": "cfcfeda9-2b06-4e21-9edc-ffed564cecb9",
   "metadata": {},
   "outputs": [
    {
     "name": "stdout",
     "output_type": "stream",
     "text": [
      "\n",
      "Final Answer:\n",
      " Yes\n",
      "\n",
      "Citations:\n",
      " ['Student and Child Student — • an interview • the sponsor ’ s own test or entrance exam the sponsor must, however, provide details of how they assessed the applicant on the cas. evidence of english language ability all sponsors must assess their prospective students ’ english language ability. the level of english required and the documents to be submitted depends on : • the level of course the applicant is studying • the type of institution at which the applicant is studying verifying documents the caseworker must carry out a verification check if : • they have reasonable doubts that a specified document is not genuine', 'Student and Child Student — page 48 of 107 published for home office staff on 16 july 2025 student : english language requirement this page tells caseworkers about the english language requirement for applicants on the student route. applicants on the student route must meet a required level of english language ability depending on the level of their course. the caseworker must check the applicant ’ s confirmation of acceptance for studies to determine what level of english is required and what assessment was carried out or what evidence has been used to demonstrate that the applicant meets the requirement. if applying to study a course below degree level, the applicant must have the equivalent of level b1 of the common european framework of references for english language. if applying to study a course at degree level or above, the applicant must have the equivalent of level b2 of the common european framework of references for english language. applicants on a combined pre - sessional course need to demonstrate level b1 english if they have not been given an unconditional offer of study on the main course of study at degree level or above, and their sponsor has not assessed them as already having level b2 english. there is further guidance on how caseworkers must assess evidence that an applicant meets the english language requirement at the relevant level. related content contents', 'Student and Child Student — page 82 of 107 published for home office staff on 16 july 2025 differential evidence requirement this page tells caseworkers about the student and child student differential evidence requirement which permit applicants from listed countries to submit fewer supporting documents with their application. requirements for nationals who benefit from differential evidence to qualify for differential evidence arrangements, the applicant must : • be sponsored by a licensed student sponsor • be applying for entry clearance in the country or territory where they are living or applying for further permission within the uk • be a national ( or citizen ) of a country or territory listed in appendix student st 22 of the immigration rules ( the list is also duplicated in appendix child student cs 13 ) documents not required under the differentiation arrangements applicants who meet the requirements of differentiation will not normally have to submit : • documents used by the student sponsor to assess academic ability • when applying in the uk, evidence that they have completed their previous course ( this will be noted on the confirmation of acceptance for studies ( cas ) • english language tests or documents used by the licensed student sponsor to assess english language ability • documentary evidence of their funds mandatory documents under the differentiation arrangements, all student and child student applicants must still submit the following with their application : • their passport or other travel document proving identity and nationality • biometric residence', 'Student and Child Student — page 31 of 107 published for home office staff on 16 july 2025 type of sponsor acceptable courses ( leading to an approved qualification for home office purposes ) • a short - term study abroad programme in the uk as part of the applicant ’ s qualification at an overseas higher education institution ( hei ), as long as the qualification is confirmed as being of equivalent level to a uk degree by ecctis ( formerly uk naric ) • an english language course at level b2 or above of the common european framework of reference for languages ( cefr ) • an aviation licence, rating or certificate issued by the uk ’ s civil aviation authority the caseworker must check with the ofqual register or the scottish qualifications authority ( sqa ) to confirm that a course is approved or accredited. child student : acceptable levels of study a child student can do a course that is either : • taught in accordance with the national curriculum • taught in accordance with the regulated qualifications framework ( rqf ) and must not be a foundation course intended to prepare the applicant for entry to a higher education provider • accepted as being the same academic level as the national curriculum or the rqf by : o ofsted ( england ) o the education and training inspectorate ( northern ireland ) o education scotland o estyn', 'Student and Child Student — page 71 of 107 published for home office staff on 16 july 2025 translating documents this page tells caseworkers when they can accept translated documents for student and child student applications. if a document is not in english or welsh, the applicant must provide a fully certified translation from a professional translator or translation company that can be independently verified by the home office. the translation must include all of the following information : • confirmation that it is an accurate translation of the document • the date of translation • the full name and signature of the translator or an official from the translation company • the translator or translation company ’ s contact details assessing the academic level of a translated certificate if a translation of an overseas qualification or certificate is submitted, the caseworker must not take it as a direct translation of the academic level of the award. the caseworker must use the ecctis ( formerly uk naric ) website to assess the level of overseas qualifications or ask the sponsor to provide evidence of its level from ecctis ( formerly uk naric ) if this has not been included with the application. related content contents']\n"
     ]
    }
   ],
   "source": [
    "chunks_path = r\"E:\\Info_Srping\\swiftvisa\\index\\chunks_with_embeddings_new.jsonl\"\n",
    "model, index, chunks = build_faiss_index(chunks_path)\n",
    "\n",
    "query = \"I am from Canada and applying for a UK Student Visa. Do I need to prove my English language ability?\"\n",
    "answer, citations = generate_answer(query, model, index, chunks, top_k=5)\n",
    "\n",
    "print(\"\\nFinal Answer:\\n\", answer)\n",
    "print(\"\\nCitations:\\n\", citations)"
   ]
  },
  {
   "cell_type": "code",
   "execution_count": null,
   "id": "e0be5730-d362-483e-85e0-c030bdfae42f",
   "metadata": {},
   "outputs": [],
   "source": []
  },
  {
   "cell_type": "code",
   "execution_count": null,
   "id": "2efe7199-b597-4c62-a75b-aa6e83f7647f",
   "metadata": {},
   "outputs": [],
   "source": []
  },
  {
   "cell_type": "code",
   "execution_count": null,
   "id": "c47b3c3d-58a1-4d59-8566-349bf3d7b9b7",
   "metadata": {},
   "outputs": [],
   "source": []
  },
  {
   "cell_type": "code",
   "execution_count": null,
   "id": "b1ba9774-2bcb-47b9-9beb-17665955a98d",
   "metadata": {},
   "outputs": [],
   "source": []
  },
  {
   "cell_type": "code",
   "execution_count": null,
   "id": "d25184f2-4a94-4d65-a8ed-c564a933f9ce",
   "metadata": {},
   "outputs": [],
   "source": []
  },
  {
   "cell_type": "code",
   "execution_count": null,
   "id": "163f7e19-af0e-45c5-8331-8170a9026560",
   "metadata": {},
   "outputs": [],
   "source": []
  },
  {
   "cell_type": "code",
   "execution_count": null,
   "id": "c1958b65-3233-463a-9c96-1f9b0655458d",
   "metadata": {},
   "outputs": [],
   "source": []
  },
  {
   "cell_type": "code",
   "execution_count": null,
   "id": "1fae17b6-7302-4faf-8aae-15403df613d0",
   "metadata": {},
   "outputs": [],
   "source": []
  },
  {
   "cell_type": "code",
   "execution_count": null,
   "id": "d6aa7e6b-35a6-4875-9395-d64f10df72bb",
   "metadata": {},
   "outputs": [],
   "source": []
  },
  {
   "cell_type": "code",
   "execution_count": null,
   "id": "42f8bf7f-888b-4ccb-83e4-9e0e4ab40723",
   "metadata": {},
   "outputs": [],
   "source": []
  },
  {
   "cell_type": "code",
   "execution_count": null,
   "id": "c5c8e2aa-d01a-47c3-8d7d-b995c83662e2",
   "metadata": {},
   "outputs": [],
   "source": []
  }
 ],
 "metadata": {
  "kernelspec": {
   "display_name": "Python 3 (ipykernel)",
   "language": "python",
   "name": "python3"
  },
  "language_info": {
   "codemirror_mode": {
    "name": "ipython",
    "version": 3
   },
   "file_extension": ".py",
   "mimetype": "text/x-python",
   "name": "python",
   "nbconvert_exporter": "python",
   "pygments_lexer": "ipython3",
   "version": "3.11.5"
  }
 },
 "nbformat": 4,
 "nbformat_minor": 5
}
