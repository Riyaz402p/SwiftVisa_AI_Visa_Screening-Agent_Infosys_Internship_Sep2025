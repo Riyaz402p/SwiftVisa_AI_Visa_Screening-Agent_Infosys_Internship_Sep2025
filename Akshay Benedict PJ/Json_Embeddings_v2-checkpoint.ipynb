{
 "cells": [
  {
   "cell_type": "code",
   "execution_count": 5,
   "id": "3c57c656-8adc-4726-866f-cb1916f864f7",
   "metadata": {},
   "outputs": [],
   "source": [
    "from sentence_transformers import SentenceTransformer\n",
    "import json\n",
    "from pathlib import Path\n",
    "import numpy as np"
   ]
  },
  {
   "cell_type": "code",
   "execution_count": 6,
   "id": "1b17be9a-5ba4-4464-ae23-4c7bd6873930",
   "metadata": {},
   "outputs": [
    {
     "name": "stdout",
     "output_type": "stream",
     "text": [
      "Loaded 253 chunks.\n"
     ]
    }
   ],
   "source": [
    "jsonl_path = r\"E:\\Info_Srping\\swiftvisa\\data\\processed\\UK_StudentVisa_chunks_new.jsonl\"\n",
    "\n",
    "chunks = []\n",
    "\n",
    "with open(jsonl_path, \"r\", encoding=\"utf-8\") as f:\n",
    "    for line in f:\n",
    "        chunks.append(json.loads(line))\n",
    "\n",
    "print(f\"Loaded {len(chunks)} chunks.\")\n"
   ]
  },
  {
   "cell_type": "code",
   "execution_count": 7,
   "id": "54aec238-486f-4d95-835e-ce8116dd7789",
   "metadata": {},
   "outputs": [],
   "source": [
    "# Initialize the embedding model\n",
    "model = SentenceTransformer('sentence-transformers/all-MiniLM-L6-v2')"
   ]
  },
  {
   "cell_type": "code",
   "execution_count": 4,
   "id": "bdd88858-d9f4-4d69-b7dc-8c8884bedc4c",
   "metadata": {},
   "outputs": [
    {
     "name": "stdout",
     "output_type": "stream",
     "text": [
      "Embeddings created and saved successfully!\n"
     ]
    }
   ],
   "source": [
    "# Generate embeddings\n",
    "for chunk in chunks:\n",
    "    chunk['embedding'] = model.encode(chunk['text']).tolist()  # convert to list for JSON\n",
    "\n",
    "# Save the chunks with embeddings\n",
    "with open(r\"E:\\Info_Srping\\swiftvisa\\index\\chunks_with_embeddings_new.jsonl\", \"w\", encoding=\"utf-8\") as f:\n",
    "    for chunk in chunks:\n",
    "        f.write(json.dumps(chunk) + \"\\n\")\n",
    "\n",
    "print(\"Embeddings created and saved successfully!\")\n"
   ]
  }
 ],
 "metadata": {
  "kernelspec": {
   "display_name": "Python 3 (ipykernel)",
   "language": "python",
   "name": "python3"
  },
  "language_info": {
   "codemirror_mode": {
    "name": "ipython",
    "version": 3
   },
   "file_extension": ".py",
   "mimetype": "text/x-python",
   "name": "python",
   "nbconvert_exporter": "python",
   "pygments_lexer": "ipython3",
   "version": "3.11.5"
  }
 },
 "nbformat": 4,
 "nbformat_minor": 5
}
