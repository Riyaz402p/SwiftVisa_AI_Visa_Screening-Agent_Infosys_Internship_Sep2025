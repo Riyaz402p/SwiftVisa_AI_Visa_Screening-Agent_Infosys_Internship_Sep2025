{
  "nbformat": 4,
  "nbformat_minor": 0,
  "metadata": {
    "colab": {
      "provenance": []
    },
    "kernelspec": {
      "name": "python3",
      "display_name": "Python 3"
    },
    "language_info": {
      "name": "python"
    }
  },
  "cells": [
    {
      "cell_type": "code",
      "execution_count": 13,
      "metadata": {
        "id": "rvfR2VWj-H-b"
      },
      "outputs": [],
      "source": [
        "import re\n",
        "import json\n",
        "import hashlib\n",
        "import time\n",
        "from google.colab import files\n",
        "from pathlib import Path\n",
        "import fitz"
      ]
    },
    {
      "cell_type": "code",
      "source": [
        "!pip install PyMuPDF\n"
      ],
      "metadata": {
        "colab": {
          "base_uri": "https://localhost:8080/"
        },
        "id": "LCmX57YICsC0",
        "outputId": "6df07190-714b-46c7-9b0f-c0f3fbc1c179"
      },
      "execution_count": 4,
      "outputs": [
        {
          "output_type": "stream",
          "name": "stdout",
          "text": [
            "Collecting PyMuPDF\n",
            "  Downloading pymupdf-1.26.4-cp39-abi3-manylinux_2_28_x86_64.whl.metadata (3.4 kB)\n",
            "Downloading pymupdf-1.26.4-cp39-abi3-manylinux_2_28_x86_64.whl (24.1 MB)\n",
            "\u001b[2K   \u001b[90m━━━━━━━━━━━━━━━━━━━━━━━━━━━━━━━━━━━━━━━━\u001b[0m \u001b[32m24.1/24.1 MB\u001b[0m \u001b[31m43.4 MB/s\u001b[0m eta \u001b[36m0:00:00\u001b[0m\n",
            "\u001b[?25hInstalling collected packages: PyMuPDF\n",
            "Successfully installed PyMuPDF-1.26.4\n"
          ]
        }
      ]
    },
    {
      "cell_type": "code",
      "source": [
        "def slugify(s):\n",
        "    \"\"\"Convert text to a safe slug for IDs.\"\"\"\n",
        "    return re.sub(r'[^A-Za-z0-9]+', '-', s.strip()).strip('-')"
      ],
      "metadata": {
        "id": "-NDY9_Ks-NIA"
      },
      "execution_count": 5,
      "outputs": []
    },
    {
      "cell_type": "code",
      "source": [
        "def sha256_file(path):\n",
        "    \"\"\"Calculate SHA-256 hash of a file.\"\"\"\n",
        "    h = hashlib.sha256()\n",
        "    with open(path, 'rb') as f:\n",
        "        for b in iter(lambda: f.read(1 << 20), b''):\n",
        "            h.update(b)\n",
        "    return h.hexdigest()"
      ],
      "metadata": {
        "id": "O6-ZLm-v-UO8"
      },
      "execution_count": 6,
      "outputs": []
    },
    {
      "cell_type": "code",
      "source": [
        "def chunk_text(text, max_chars=3000, overlap=0):\n",
        "    \"\"\"Split text into chunks of max_chars length.\"\"\"\n",
        "    start = 0\n",
        "    while start < len(text):\n",
        "        end = min(start + max_chars, len(text))\n",
        "        yield (start, end, text[start:end].strip())\n",
        "        start = max(end - overlap, end)"
      ],
      "metadata": {
        "id": "WbOa3FwK-XOK"
      },
      "execution_count": 7,
      "outputs": []
    },
    {
      "cell_type": "code",
      "source": [
        "def make_ids(country, visa_type, year, doc_slug, page_num, seq):\n",
        "    \"\"\"Generate doc_id and chunk_id.\"\"\"\n",
        "    doc_id = f\"{country}-{slugify(visa_type)}-{year}-{doc_slug}\"\n",
        "    chunk_id = f\"{doc_id}-Pg{page_num}-{seq:03d}\"\n",
        "    return doc_id, chunk_id"
      ],
      "metadata": {
        "id": "sxtrmKym-aa1"
      },
      "execution_count": 8,
      "outputs": []
    },
    {
      "cell_type": "code",
      "source": [
        "def pdf_to_chunks(pdf_path, meta, out_path):\n",
        "    pdf_path = Path(pdf_path)\n",
        "    if not pdf_path.exists():\n",
        "        raise FileNotFoundError(f\"PDF file not found: {pdf_path}\")\n",
        "\n",
        "   # Read PDF\n",
        "    doc = fitz.open(str(pdf_path))\n",
        "    doc_sha = sha256_file(pdf_path)\n",
        "    meta[\"doc_sha256\"] = doc_sha\n",
        "\n",
        "    all_chunks = []\n",
        "    seq = 1\n",
        "\n",
        "    for page_num in range(len(doc)):\n",
        "        page = doc[page_num]\n",
        "        text = page.get_text(\"text\")\n",
        "        for cs, ce, chunk in chunk_text(text):\n",
        "            doc_id, chunk_id = make_ids(meta[\"country\"], meta[\"visa_type\"], meta[\"year\"], meta[\"doc_slug\"], page_num+1, seq)\n",
        "            chunk_meta = {\n",
        "                \"chunk_id\": chunk_id,\n",
        "                \"doc_id\": doc_id,\n",
        "                \"source\": meta[\"source\"],\n",
        "                \"url\": meta[\"url\"],\n",
        "                \"country\": meta[\"country\"],\n",
        "                \"visa_type\": meta[\"visa_type\"],\n",
        "                \"effective_date\": meta[\"effective_date\"],\n",
        "                \"version\": meta[\"version\"],\n",
        "                \"doc_sha256\": meta[\"doc_sha256\"],\n",
        "                \"retrieved_at\": time.strftime(\"%Y-%m-%dT%H:%M:%SZ\", time.gmtime()),\n",
        "                \"page\": page_num+1,\n",
        "                \"pages\": [page_num+1],\n",
        "                \"section_title\": None,  # Optional: detect from headings\n",
        "                \"language\": \"en\",\n",
        "                \"char_start\": cs,\n",
        "                \"char_end\": ce,\n",
        "                \"text\": chunk\n",
        "            }\n",
        "            all_chunks.append(chunk_meta)\n",
        "            seq += 1\n",
        "\n",
        "    out_path = Path(out_path)\n",
        "    out_path.parent.mkdir(parents=True, exist_ok=True)\n",
        "\n",
        "    with open(out_path, \"w\", encoding=\"utf-8\") as f:\n",
        "        for ch in all_chunks:\n",
        "            f.write(json.dumps(ch, ensure_ascii=False) + \"\\n\")\n",
        "\n",
        "    print(f\"Saved {len(all_chunks)} chunks to {out_path}\")"
      ],
      "metadata": {
        "id": "c1dacsvR-fxF"
      },
      "execution_count": 9,
      "outputs": []
    },
    {
      "cell_type": "code",
      "source": [
        "from google.colab import files\n",
        "uploaded = files.upload()\n",
        "\n",
        "pdf_file = list(uploaded.keys())[0]\n",
        "print(f\"Uploaded file: {pdf_file}\")\n"
      ],
      "metadata": {
        "colab": {
          "base_uri": "https://localhost:8080/",
          "height": 90
        },
        "id": "LUePH5pK-uvB",
        "outputId": "5ef51160-9f1d-47a3-a90f-6c9507330d17"
      },
      "execution_count": 10,
      "outputs": [
        {
          "output_type": "display_data",
          "data": {
            "text/plain": [
              "<IPython.core.display.HTML object>"
            ],
            "text/html": [
              "\n",
              "     <input type=\"file\" id=\"files-c5659720-fc20-4fca-aa4f-06242ae47932\" name=\"files[]\" multiple disabled\n",
              "        style=\"border:none\" />\n",
              "     <output id=\"result-c5659720-fc20-4fca-aa4f-06242ae47932\">\n",
              "      Upload widget is only available when the cell has been executed in the\n",
              "      current browser session. Please rerun this cell to enable.\n",
              "      </output>\n",
              "      <script>// Copyright 2017 Google LLC\n",
              "//\n",
              "// Licensed under the Apache License, Version 2.0 (the \"License\");\n",
              "// you may not use this file except in compliance with the License.\n",
              "// You may obtain a copy of the License at\n",
              "//\n",
              "//      http://www.apache.org/licenses/LICENSE-2.0\n",
              "//\n",
              "// Unless required by applicable law or agreed to in writing, software\n",
              "// distributed under the License is distributed on an \"AS IS\" BASIS,\n",
              "// WITHOUT WARRANTIES OR CONDITIONS OF ANY KIND, either express or implied.\n",
              "// See the License for the specific language governing permissions and\n",
              "// limitations under the License.\n",
              "\n",
              "/**\n",
              " * @fileoverview Helpers for google.colab Python module.\n",
              " */\n",
              "(function(scope) {\n",
              "function span(text, styleAttributes = {}) {\n",
              "  const element = document.createElement('span');\n",
              "  element.textContent = text;\n",
              "  for (const key of Object.keys(styleAttributes)) {\n",
              "    element.style[key] = styleAttributes[key];\n",
              "  }\n",
              "  return element;\n",
              "}\n",
              "\n",
              "// Max number of bytes which will be uploaded at a time.\n",
              "const MAX_PAYLOAD_SIZE = 100 * 1024;\n",
              "\n",
              "function _uploadFiles(inputId, outputId) {\n",
              "  const steps = uploadFilesStep(inputId, outputId);\n",
              "  const outputElement = document.getElementById(outputId);\n",
              "  // Cache steps on the outputElement to make it available for the next call\n",
              "  // to uploadFilesContinue from Python.\n",
              "  outputElement.steps = steps;\n",
              "\n",
              "  return _uploadFilesContinue(outputId);\n",
              "}\n",
              "\n",
              "// This is roughly an async generator (not supported in the browser yet),\n",
              "// where there are multiple asynchronous steps and the Python side is going\n",
              "// to poll for completion of each step.\n",
              "// This uses a Promise to block the python side on completion of each step,\n",
              "// then passes the result of the previous step as the input to the next step.\n",
              "function _uploadFilesContinue(outputId) {\n",
              "  const outputElement = document.getElementById(outputId);\n",
              "  const steps = outputElement.steps;\n",
              "\n",
              "  const next = steps.next(outputElement.lastPromiseValue);\n",
              "  return Promise.resolve(next.value.promise).then((value) => {\n",
              "    // Cache the last promise value to make it available to the next\n",
              "    // step of the generator.\n",
              "    outputElement.lastPromiseValue = value;\n",
              "    return next.value.response;\n",
              "  });\n",
              "}\n",
              "\n",
              "/**\n",
              " * Generator function which is called between each async step of the upload\n",
              " * process.\n",
              " * @param {string} inputId Element ID of the input file picker element.\n",
              " * @param {string} outputId Element ID of the output display.\n",
              " * @return {!Iterable<!Object>} Iterable of next steps.\n",
              " */\n",
              "function* uploadFilesStep(inputId, outputId) {\n",
              "  const inputElement = document.getElementById(inputId);\n",
              "  inputElement.disabled = false;\n",
              "\n",
              "  const outputElement = document.getElementById(outputId);\n",
              "  outputElement.innerHTML = '';\n",
              "\n",
              "  const pickedPromise = new Promise((resolve) => {\n",
              "    inputElement.addEventListener('change', (e) => {\n",
              "      resolve(e.target.files);\n",
              "    });\n",
              "  });\n",
              "\n",
              "  const cancel = document.createElement('button');\n",
              "  inputElement.parentElement.appendChild(cancel);\n",
              "  cancel.textContent = 'Cancel upload';\n",
              "  const cancelPromise = new Promise((resolve) => {\n",
              "    cancel.onclick = () => {\n",
              "      resolve(null);\n",
              "    };\n",
              "  });\n",
              "\n",
              "  // Wait for the user to pick the files.\n",
              "  const files = yield {\n",
              "    promise: Promise.race([pickedPromise, cancelPromise]),\n",
              "    response: {\n",
              "      action: 'starting',\n",
              "    }\n",
              "  };\n",
              "\n",
              "  cancel.remove();\n",
              "\n",
              "  // Disable the input element since further picks are not allowed.\n",
              "  inputElement.disabled = true;\n",
              "\n",
              "  if (!files) {\n",
              "    return {\n",
              "      response: {\n",
              "        action: 'complete',\n",
              "      }\n",
              "    };\n",
              "  }\n",
              "\n",
              "  for (const file of files) {\n",
              "    const li = document.createElement('li');\n",
              "    li.append(span(file.name, {fontWeight: 'bold'}));\n",
              "    li.append(span(\n",
              "        `(${file.type || 'n/a'}) - ${file.size} bytes, ` +\n",
              "        `last modified: ${\n",
              "            file.lastModifiedDate ? file.lastModifiedDate.toLocaleDateString() :\n",
              "                                    'n/a'} - `));\n",
              "    const percent = span('0% done');\n",
              "    li.appendChild(percent);\n",
              "\n",
              "    outputElement.appendChild(li);\n",
              "\n",
              "    const fileDataPromise = new Promise((resolve) => {\n",
              "      const reader = new FileReader();\n",
              "      reader.onload = (e) => {\n",
              "        resolve(e.target.result);\n",
              "      };\n",
              "      reader.readAsArrayBuffer(file);\n",
              "    });\n",
              "    // Wait for the data to be ready.\n",
              "    let fileData = yield {\n",
              "      promise: fileDataPromise,\n",
              "      response: {\n",
              "        action: 'continue',\n",
              "      }\n",
              "    };\n",
              "\n",
              "    // Use a chunked sending to avoid message size limits. See b/62115660.\n",
              "    let position = 0;\n",
              "    do {\n",
              "      const length = Math.min(fileData.byteLength - position, MAX_PAYLOAD_SIZE);\n",
              "      const chunk = new Uint8Array(fileData, position, length);\n",
              "      position += length;\n",
              "\n",
              "      const base64 = btoa(String.fromCharCode.apply(null, chunk));\n",
              "      yield {\n",
              "        response: {\n",
              "          action: 'append',\n",
              "          file: file.name,\n",
              "          data: base64,\n",
              "        },\n",
              "      };\n",
              "\n",
              "      let percentDone = fileData.byteLength === 0 ?\n",
              "          100 :\n",
              "          Math.round((position / fileData.byteLength) * 100);\n",
              "      percent.textContent = `${percentDone}% done`;\n",
              "\n",
              "    } while (position < fileData.byteLength);\n",
              "  }\n",
              "\n",
              "  // All done.\n",
              "  yield {\n",
              "    response: {\n",
              "      action: 'complete',\n",
              "    }\n",
              "  };\n",
              "}\n",
              "\n",
              "scope.google = scope.google || {};\n",
              "scope.google.colab = scope.google.colab || {};\n",
              "scope.google.colab._files = {\n",
              "  _uploadFiles,\n",
              "  _uploadFilesContinue,\n",
              "};\n",
              "})(self);\n",
              "</script> "
            ]
          },
          "metadata": {}
        },
        {
          "output_type": "stream",
          "name": "stdout",
          "text": [
            "Saving student_Visa_Eligibility.pdf to student_Visa_Eligibility.pdf\n",
            "Uploaded file: student_Visa_Eligibility.pdf\n"
          ]
        }
      ]
    },
    {
      "cell_type": "code",
      "source": [
        "output_file = r\"C:\\Users\\arasa\\Downloads\\infosys\\UK_Student_Visa_Eligibility.json\"  # Output in Colab\n",
        "\n",
        "meta_info = {\n",
        "    \"country\": \"UK\",\n",
        "    \"visa_type\": \"Student and Child Student\",\n",
        "    \"year\": \"2025\",\n",
        "    \"doc_slug\": \"UK Student Visa Guide 2024\",\n",
        "    \"source\": \"Student and Child Student\",\n",
        "    \"url\": \"https://gov.uk/student-visa\",\n",
        "    \"effective_date\": \"2025-07-16\",\n",
        "    \"version\": \"11.0\"\n",
        "}\n",
        "\n",
        "pdf_to_chunks(pdf_file, meta_info, output_file)\n"
      ],
      "metadata": {
        "colab": {
          "base_uri": "https://localhost:8080/"
        },
        "id": "PRqS9E4SBjeH",
        "outputId": "99352d46-1a96-40fa-b6ce-ebda279ed65b"
      },
      "execution_count": 14,
      "outputs": [
        {
          "output_type": "stream",
          "name": "stdout",
          "text": [
            "Saved 25 chunks to C:\\Users\\arasa\\Downloads\\infosys\\UK_Student_Visa_Eligibility.json\n"
          ]
        }
      ]
    }
  ]
}